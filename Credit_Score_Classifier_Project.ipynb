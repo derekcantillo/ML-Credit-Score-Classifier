{
 "cells": [
  {
   "cell_type": "markdown",
   "id": "55f783d5",
   "metadata": {},
   "source": [
    "# 🖥 PROYECTO DE IA\n",
    "###  📊 Actividad de ML ejemplo de clasificación"
   ]
  },
  {
   "cell_type": "markdown",
   "id": "0d17a703",
   "metadata": {},
   "source": [
    "El análisis de datos crediticios es la evaluación de los detalles financieros de una persona para determinar su salud financiera y su capacidad para generar flujos de caja suficientes para el servicio de la deuda. Este análisis es muy importante, ya que determina la solvencia de la persona y el nivel de riesgo crediticio asociado a la concesión de créditos. Este conjunto de datos contiene detalles crediticios de muchas personas, como su puntuación crediticia, su índice de utilización, sus ingresos anuales y muchos otros factores que muestran la situación financiera de esa persona.\n",
    "\n",
    "### Objetivo\n",
    "Analizar mediante modelos de aprendizaje de máquinas, si un usuario es rentable para adquirir una deuda, a partir de un conjunto de datos suministrados (puntuación crediticia, ingresos anuales, etc.)\n",
    "### Objetivos Específicos\n",
    "- Implementar los modelos de aprendizaje de máquina: regresión, árboles de decisión, random forest y redes neuronales.\n",
    "- Comparar el rendimiento y resultados de los diferentes modelos.\n",
    "- Realizar análisis y pruebas con los datos suministrados.\n",
    "- Aplicar técnicas de preprocesamiento a conjuntos de datos para que se puedan utilizar para el entrenamiento y las pruebas de modelos\n",
    "\n",
    "### Descripción de las variables:\n",
    "- **ID**:\n",
    "Representa un id único de la entrada\n",
    "\n",
    "- **Customer_ID**:\n",
    "Representa un id único de una persona\n",
    "\n",
    "- **Month**:\n",
    "Representa el mes del año\n",
    "\n",
    "- **Name**:\n",
    "Representa el nombre de una persona\n",
    "\n",
    "- **Age**:\n",
    "Representa el año de una persona\n",
    "\n",
    "- **SSN**:\n",
    "Representa el número de la seguridad social de una persona\n",
    "\n",
    "- **Occupation**:\n",
    "Representa la ocupación de la persona\n",
    "\n",
    "- **Annual_Income**:\n",
    "Represnta el ingreso anual de la persona\n",
    "\n",
    "- **Monthly_Inhand_Salary**:\n",
    "Representa el salario base mensual de una persona\n",
    "\n",
    "- **Num_Bank_Accounts**:\n",
    "Representa el número de cuenta bancaria que una persona posee\n",
    "\n",
    "- **Num_Credit_Card**:\n",
    "Representa el número de otras tarjetas de crédito poseídas por una persona\n",
    "\n",
    "- **Interest_Rate**:\n",
    "Representa la tasa de interés en una tarjeta de crédito\n",
    "\n",
    "- **Num_of_Loan**:\n",
    "Representa el número de préstamos tomados del banco\n",
    "\n",
    "- **Type_of_Loan**:\n",
    "Representa el tipo de préstamo tomado por una persona\n",
    "\n",
    "- **Delay_from_due_date**:\n",
    "Representa el número promedio de días de retraso para la fecha del pago\n",
    "\n",
    "- **Num_of_Delayed_Payment**:\n",
    "Representa el número promedio de pagos retrasados por una persona\n",
    "\n",
    "- **Changed_Credit_Limit**:\n",
    "Representa el porcentaje de cambio en límite de una tarjeta de crédito\n",
    "\n",
    "- **Num_Credit_Inquiries**:\n",
    "Representa el número de consultas de tarjetas de crédito\n",
    "\n",
    "- **Credit_Mix**:\n",
    "Representa la clasificación de la mezcla de créditos\n",
    "\n",
    "- **Outstanding_Debt**:\n",
    "Representa la deuda restante por pagar (en USD)\n",
    "\n",
    "- **Credit_Utilization_Ratio**:\n",
    "Representa el índice de utilización de la tarjeta de crédito\n",
    "\n",
    "- **Credit_History_Age**:\n",
    "Representa la antigüedad del historial crediticio de la persona\n",
    "\n",
    "- **Payment_of_Min_Amount**:\n",
    "Representa si la persona sólo ha pagado el importe mínimo\n",
    "\n",
    "- **Total_EMI_per_month**:\n",
    "Representa el pago mensual del EMI (en USD)\n",
    "\n",
    "- **Amount_invested_monthly**:\n",
    "Representa el importe mensual invertido por el cliente (en USD)\n",
    "\n",
    "- **Payment_Behaviour**:\n",
    "Representa el comportamiento de pago del cliente (en USD)\n",
    "\n",
    "- **Monthly_Balance**:\n",
    "Representa el importe del saldo mensual del cliente (en USD)\n",
    "\n",
    "- **Credit_Score**:\n",
    "Representa el rango de la calificación crediticia (mala, normal, buena)"
   ]
  },
  {
   "cell_type": "markdown",
   "id": "97f78099",
   "metadata": {},
   "source": [
    "## 📦 Importamos librerías"
   ]
  },
  {
   "cell_type": "code",
   "execution_count": 5,
   "id": "d5aa4b50",
   "metadata": {},
   "outputs": [],
   "source": [
    "import pandas as pd\n",
    "import numpy as np\n",
    "import seaborn as sns\n",
    "import matplotlib.pyplot as plt\n",
    "import os\n",
    "from scipy import stats\n",
    "import warnings\n",
    "from scipy import stats\n",
    "from imblearn.under_sampling import RandomUnderSampler\n",
    "import warnings\n",
    "from sklearn.tree  import DecisionTreeClassifier\n",
    "from sklearn.neural_network import MLPClassifier\n",
    "from sklearn.datasets import make_classification\n",
    "from sklearn.model_selection import train_test_split\n",
    "# conda install -c anaconda scikit-learn\n",
    "# sklearn library for machine learning algorithms, data preprocessing, and evaluation\n",
    "from sklearn.model_selection import train_test_split\n",
    "from sklearn.preprocessing import OneHotEncoder, OrdinalEncoder, LabelEncoder\n",
    "from sklearn.preprocessing import StandardScaler, MinMaxScaler, RobustScaler\n",
    "from sklearn.pipeline import Pipeline\n",
    "\n",
    "# Supervised-Classifier\n",
    "from sklearn.linear_model import LogisticRegression\n",
    "from sklearn.svm import LinearSVC, SVC\n",
    "from sklearn.ensemble import BaggingClassifier, RandomForestClassifier\n",
    "\n",
    "# Supervised-Classifier-metrics\n",
    "from sklearn.metrics import make_scorer, accuracy_score, recall_score, precision_score, f1_score, log_loss\n",
    "from sklearn.metrics import classification_report, plot_confusion_matrix, confusion_matrix\n",
    "from sklearn.metrics import plot_roc_curve, roc_curve, roc_auc_score, auc\n",
    "from sklearn.metrics import plot_precision_recall_curve, precision_recall_curve, average_precision_score\n",
    "\n",
    "# Supervised-cross_validate-GridSearchCV\n",
    "from sklearn.model_selection import cross_validate, cross_val_score\n",
    "from sklearn.model_selection import KFold\n",
    "from sklearn.model_selection import GridSearchCV\n",
    "from sklearn.preprocessing import OneHotEncoder\n",
    "from yellowbrick.classifier import ROCAUC\n",
    "\n",
    "import pickle\n",
    "random_state=42\n",
    "# Suppressing a warning \n",
    "warnings.filterwarnings(\"ignore\") \n",
    "warnings.warn(\"this will not show\")"
   ]
  },
  {
   "cell_type": "markdown",
   "id": "a75179e2",
   "metadata": {},
   "source": [
    "## 🗒 Lectura, análisis y limpieza de Datos\n",
    "Comenzamos por importar los archivos"
   ]
  },
  {
   "cell_type": "code",
   "execution_count": 2,
   "id": "2672ff2e",
   "metadata": {},
   "outputs": [
    {
     "name": "stdout",
     "output_type": "stream",
     "text": [
      "files/.DS_Store\n",
      "files/test.csv\n",
      "files/train.csv\n"
     ]
    }
   ],
   "source": [
    "for dirname, _, filenames in os.walk('files'):\n",
    "    for filename in filenames:\n",
    "        print(os.path.join(dirname, filename))"
   ]
  },
  {
   "cell_type": "code",
   "execution_count": 3,
   "id": "7660436d",
   "metadata": {},
   "outputs": [
    {
     "data": {
      "text/html": [
       "<div>\n",
       "<style scoped>\n",
       "    .dataframe tbody tr th:only-of-type {\n",
       "        vertical-align: middle;\n",
       "    }\n",
       "\n",
       "    .dataframe tbody tr th {\n",
       "        vertical-align: top;\n",
       "    }\n",
       "\n",
       "    .dataframe thead th {\n",
       "        text-align: right;\n",
       "    }\n",
       "</style>\n",
       "<table border=\"1\" class=\"dataframe\">\n",
       "  <thead>\n",
       "    <tr style=\"text-align: right;\">\n",
       "      <th></th>\n",
       "      <th>ID</th>\n",
       "      <th>Customer_ID</th>\n",
       "      <th>Month</th>\n",
       "      <th>Name</th>\n",
       "      <th>Age</th>\n",
       "      <th>SSN</th>\n",
       "      <th>Occupation</th>\n",
       "      <th>Annual_Income</th>\n",
       "      <th>Monthly_Inhand_Salary</th>\n",
       "      <th>Num_Bank_Accounts</th>\n",
       "      <th>...</th>\n",
       "      <th>Credit_Mix</th>\n",
       "      <th>Outstanding_Debt</th>\n",
       "      <th>Credit_Utilization_Ratio</th>\n",
       "      <th>Credit_History_Age</th>\n",
       "      <th>Payment_of_Min_Amount</th>\n",
       "      <th>Total_EMI_per_month</th>\n",
       "      <th>Amount_invested_monthly</th>\n",
       "      <th>Payment_Behaviour</th>\n",
       "      <th>Monthly_Balance</th>\n",
       "      <th>Credit_Score</th>\n",
       "    </tr>\n",
       "  </thead>\n",
       "  <tbody>\n",
       "    <tr>\n",
       "      <th>0</th>\n",
       "      <td>5634</td>\n",
       "      <td>3392</td>\n",
       "      <td>1</td>\n",
       "      <td>Aaron Maashoh</td>\n",
       "      <td>23.0</td>\n",
       "      <td>821000265.0</td>\n",
       "      <td>Scientist</td>\n",
       "      <td>19114.12</td>\n",
       "      <td>1824.843333</td>\n",
       "      <td>3.0</td>\n",
       "      <td>...</td>\n",
       "      <td>Good</td>\n",
       "      <td>809.98</td>\n",
       "      <td>26.822620</td>\n",
       "      <td>265.0</td>\n",
       "      <td>No</td>\n",
       "      <td>49.574949</td>\n",
       "      <td>21.465380</td>\n",
       "      <td>High_spent_Small_value_payments</td>\n",
       "      <td>312.494089</td>\n",
       "      <td>Good</td>\n",
       "    </tr>\n",
       "    <tr>\n",
       "      <th>1</th>\n",
       "      <td>5635</td>\n",
       "      <td>3392</td>\n",
       "      <td>2</td>\n",
       "      <td>Aaron Maashoh</td>\n",
       "      <td>23.0</td>\n",
       "      <td>821000265.0</td>\n",
       "      <td>Scientist</td>\n",
       "      <td>19114.12</td>\n",
       "      <td>1824.843333</td>\n",
       "      <td>3.0</td>\n",
       "      <td>...</td>\n",
       "      <td>Good</td>\n",
       "      <td>809.98</td>\n",
       "      <td>31.944960</td>\n",
       "      <td>266.0</td>\n",
       "      <td>No</td>\n",
       "      <td>49.574949</td>\n",
       "      <td>21.465380</td>\n",
       "      <td>Low_spent_Large_value_payments</td>\n",
       "      <td>284.629162</td>\n",
       "      <td>Good</td>\n",
       "    </tr>\n",
       "    <tr>\n",
       "      <th>2</th>\n",
       "      <td>5636</td>\n",
       "      <td>3392</td>\n",
       "      <td>3</td>\n",
       "      <td>Aaron Maashoh</td>\n",
       "      <td>23.0</td>\n",
       "      <td>821000265.0</td>\n",
       "      <td>Scientist</td>\n",
       "      <td>19114.12</td>\n",
       "      <td>1824.843333</td>\n",
       "      <td>3.0</td>\n",
       "      <td>...</td>\n",
       "      <td>Good</td>\n",
       "      <td>809.98</td>\n",
       "      <td>28.609352</td>\n",
       "      <td>267.0</td>\n",
       "      <td>No</td>\n",
       "      <td>49.574949</td>\n",
       "      <td>21.465380</td>\n",
       "      <td>Low_spent_Medium_value_payments</td>\n",
       "      <td>331.209863</td>\n",
       "      <td>Good</td>\n",
       "    </tr>\n",
       "    <tr>\n",
       "      <th>3</th>\n",
       "      <td>5637</td>\n",
       "      <td>3392</td>\n",
       "      <td>4</td>\n",
       "      <td>Aaron Maashoh</td>\n",
       "      <td>23.0</td>\n",
       "      <td>821000265.0</td>\n",
       "      <td>Scientist</td>\n",
       "      <td>19114.12</td>\n",
       "      <td>1824.843333</td>\n",
       "      <td>3.0</td>\n",
       "      <td>...</td>\n",
       "      <td>Good</td>\n",
       "      <td>809.98</td>\n",
       "      <td>31.377862</td>\n",
       "      <td>268.0</td>\n",
       "      <td>No</td>\n",
       "      <td>49.574949</td>\n",
       "      <td>21.465380</td>\n",
       "      <td>Low_spent_Small_value_payments</td>\n",
       "      <td>223.451310</td>\n",
       "      <td>Good</td>\n",
       "    </tr>\n",
       "    <tr>\n",
       "      <th>4</th>\n",
       "      <td>5638</td>\n",
       "      <td>3392</td>\n",
       "      <td>5</td>\n",
       "      <td>Aaron Maashoh</td>\n",
       "      <td>23.0</td>\n",
       "      <td>821000265.0</td>\n",
       "      <td>Scientist</td>\n",
       "      <td>19114.12</td>\n",
       "      <td>1824.843333</td>\n",
       "      <td>3.0</td>\n",
       "      <td>...</td>\n",
       "      <td>Good</td>\n",
       "      <td>809.98</td>\n",
       "      <td>24.797347</td>\n",
       "      <td>269.0</td>\n",
       "      <td>No</td>\n",
       "      <td>49.574949</td>\n",
       "      <td>21.465380</td>\n",
       "      <td>High_spent_Medium_value_payments</td>\n",
       "      <td>341.489231</td>\n",
       "      <td>Good</td>\n",
       "    </tr>\n",
       "    <tr>\n",
       "      <th>...</th>\n",
       "      <td>...</td>\n",
       "      <td>...</td>\n",
       "      <td>...</td>\n",
       "      <td>...</td>\n",
       "      <td>...</td>\n",
       "      <td>...</td>\n",
       "      <td>...</td>\n",
       "      <td>...</td>\n",
       "      <td>...</td>\n",
       "      <td>...</td>\n",
       "      <td>...</td>\n",
       "      <td>...</td>\n",
       "      <td>...</td>\n",
       "      <td>...</td>\n",
       "      <td>...</td>\n",
       "      <td>...</td>\n",
       "      <td>...</td>\n",
       "      <td>...</td>\n",
       "      <td>...</td>\n",
       "      <td>...</td>\n",
       "      <td>...</td>\n",
       "    </tr>\n",
       "    <tr>\n",
       "      <th>99995</th>\n",
       "      <td>155625</td>\n",
       "      <td>37932</td>\n",
       "      <td>4</td>\n",
       "      <td>Nicks</td>\n",
       "      <td>25.0</td>\n",
       "      <td>78735990.0</td>\n",
       "      <td>Mechanic</td>\n",
       "      <td>39628.99</td>\n",
       "      <td>3359.415833</td>\n",
       "      <td>4.0</td>\n",
       "      <td>...</td>\n",
       "      <td>Good</td>\n",
       "      <td>502.38</td>\n",
       "      <td>34.663572</td>\n",
       "      <td>378.0</td>\n",
       "      <td>No</td>\n",
       "      <td>35.104023</td>\n",
       "      <td>24.028477</td>\n",
       "      <td>High_spent_Large_value_payments</td>\n",
       "      <td>479.866228</td>\n",
       "      <td>Poor</td>\n",
       "    </tr>\n",
       "    <tr>\n",
       "      <th>99996</th>\n",
       "      <td>155626</td>\n",
       "      <td>37932</td>\n",
       "      <td>5</td>\n",
       "      <td>Nicks</td>\n",
       "      <td>25.0</td>\n",
       "      <td>78735990.0</td>\n",
       "      <td>Mechanic</td>\n",
       "      <td>39628.99</td>\n",
       "      <td>3359.415833</td>\n",
       "      <td>4.0</td>\n",
       "      <td>...</td>\n",
       "      <td>Good</td>\n",
       "      <td>502.38</td>\n",
       "      <td>40.565631</td>\n",
       "      <td>379.0</td>\n",
       "      <td>No</td>\n",
       "      <td>35.104023</td>\n",
       "      <td>24.028477</td>\n",
       "      <td>High_spent_Medium_value_payments</td>\n",
       "      <td>496.651610</td>\n",
       "      <td>Poor</td>\n",
       "    </tr>\n",
       "    <tr>\n",
       "      <th>99997</th>\n",
       "      <td>155627</td>\n",
       "      <td>37932</td>\n",
       "      <td>6</td>\n",
       "      <td>Nicks</td>\n",
       "      <td>25.0</td>\n",
       "      <td>78735990.0</td>\n",
       "      <td>Mechanic</td>\n",
       "      <td>39628.99</td>\n",
       "      <td>3359.415833</td>\n",
       "      <td>4.0</td>\n",
       "      <td>...</td>\n",
       "      <td>Good</td>\n",
       "      <td>502.38</td>\n",
       "      <td>41.255522</td>\n",
       "      <td>380.0</td>\n",
       "      <td>No</td>\n",
       "      <td>35.104023</td>\n",
       "      <td>24.028477</td>\n",
       "      <td>High_spent_Large_value_payments</td>\n",
       "      <td>516.809083</td>\n",
       "      <td>Poor</td>\n",
       "    </tr>\n",
       "    <tr>\n",
       "      <th>99998</th>\n",
       "      <td>155628</td>\n",
       "      <td>37932</td>\n",
       "      <td>7</td>\n",
       "      <td>Nicks</td>\n",
       "      <td>25.0</td>\n",
       "      <td>78735990.0</td>\n",
       "      <td>Mechanic</td>\n",
       "      <td>39628.99</td>\n",
       "      <td>3359.415833</td>\n",
       "      <td>4.0</td>\n",
       "      <td>...</td>\n",
       "      <td>Good</td>\n",
       "      <td>502.38</td>\n",
       "      <td>33.638208</td>\n",
       "      <td>381.0</td>\n",
       "      <td>No</td>\n",
       "      <td>35.104023</td>\n",
       "      <td>24.028477</td>\n",
       "      <td>Low_spent_Large_value_payments</td>\n",
       "      <td>319.164979</td>\n",
       "      <td>Standard</td>\n",
       "    </tr>\n",
       "    <tr>\n",
       "      <th>99999</th>\n",
       "      <td>155629</td>\n",
       "      <td>37932</td>\n",
       "      <td>8</td>\n",
       "      <td>Nicks</td>\n",
       "      <td>25.0</td>\n",
       "      <td>78735990.0</td>\n",
       "      <td>Mechanic</td>\n",
       "      <td>39628.99</td>\n",
       "      <td>3359.415833</td>\n",
       "      <td>4.0</td>\n",
       "      <td>...</td>\n",
       "      <td>Good</td>\n",
       "      <td>502.38</td>\n",
       "      <td>34.192463</td>\n",
       "      <td>382.0</td>\n",
       "      <td>No</td>\n",
       "      <td>35.104023</td>\n",
       "      <td>24.028477</td>\n",
       "      <td>High_spent_Medium_value_payments</td>\n",
       "      <td>393.673696</td>\n",
       "      <td>Poor</td>\n",
       "    </tr>\n",
       "  </tbody>\n",
       "</table>\n",
       "<p>100000 rows × 28 columns</p>\n",
       "</div>"
      ],
      "text/plain": [
       "           ID  Customer_ID  Month           Name   Age          SSN  \\\n",
       "0        5634         3392      1  Aaron Maashoh  23.0  821000265.0   \n",
       "1        5635         3392      2  Aaron Maashoh  23.0  821000265.0   \n",
       "2        5636         3392      3  Aaron Maashoh  23.0  821000265.0   \n",
       "3        5637         3392      4  Aaron Maashoh  23.0  821000265.0   \n",
       "4        5638         3392      5  Aaron Maashoh  23.0  821000265.0   \n",
       "...       ...          ...    ...            ...   ...          ...   \n",
       "99995  155625        37932      4          Nicks  25.0   78735990.0   \n",
       "99996  155626        37932      5          Nicks  25.0   78735990.0   \n",
       "99997  155627        37932      6          Nicks  25.0   78735990.0   \n",
       "99998  155628        37932      7          Nicks  25.0   78735990.0   \n",
       "99999  155629        37932      8          Nicks  25.0   78735990.0   \n",
       "\n",
       "      Occupation  Annual_Income  Monthly_Inhand_Salary  Num_Bank_Accounts  \\\n",
       "0      Scientist       19114.12            1824.843333                3.0   \n",
       "1      Scientist       19114.12            1824.843333                3.0   \n",
       "2      Scientist       19114.12            1824.843333                3.0   \n",
       "3      Scientist       19114.12            1824.843333                3.0   \n",
       "4      Scientist       19114.12            1824.843333                3.0   \n",
       "...          ...            ...                    ...                ...   \n",
       "99995   Mechanic       39628.99            3359.415833                4.0   \n",
       "99996   Mechanic       39628.99            3359.415833                4.0   \n",
       "99997   Mechanic       39628.99            3359.415833                4.0   \n",
       "99998   Mechanic       39628.99            3359.415833                4.0   \n",
       "99999   Mechanic       39628.99            3359.415833                4.0   \n",
       "\n",
       "       ...  Credit_Mix  Outstanding_Debt  Credit_Utilization_Ratio  \\\n",
       "0      ...        Good            809.98                 26.822620   \n",
       "1      ...        Good            809.98                 31.944960   \n",
       "2      ...        Good            809.98                 28.609352   \n",
       "3      ...        Good            809.98                 31.377862   \n",
       "4      ...        Good            809.98                 24.797347   \n",
       "...    ...         ...               ...                       ...   \n",
       "99995  ...        Good            502.38                 34.663572   \n",
       "99996  ...        Good            502.38                 40.565631   \n",
       "99997  ...        Good            502.38                 41.255522   \n",
       "99998  ...        Good            502.38                 33.638208   \n",
       "99999  ...        Good            502.38                 34.192463   \n",
       "\n",
       "      Credit_History_Age  Payment_of_Min_Amount  Total_EMI_per_month  \\\n",
       "0                  265.0                     No            49.574949   \n",
       "1                  266.0                     No            49.574949   \n",
       "2                  267.0                     No            49.574949   \n",
       "3                  268.0                     No            49.574949   \n",
       "4                  269.0                     No            49.574949   \n",
       "...                  ...                    ...                  ...   \n",
       "99995              378.0                     No            35.104023   \n",
       "99996              379.0                     No            35.104023   \n",
       "99997              380.0                     No            35.104023   \n",
       "99998              381.0                     No            35.104023   \n",
       "99999              382.0                     No            35.104023   \n",
       "\n",
       "       Amount_invested_monthly                 Payment_Behaviour  \\\n",
       "0                    21.465380   High_spent_Small_value_payments   \n",
       "1                    21.465380    Low_spent_Large_value_payments   \n",
       "2                    21.465380   Low_spent_Medium_value_payments   \n",
       "3                    21.465380    Low_spent_Small_value_payments   \n",
       "4                    21.465380  High_spent_Medium_value_payments   \n",
       "...                        ...                               ...   \n",
       "99995                24.028477   High_spent_Large_value_payments   \n",
       "99996                24.028477  High_spent_Medium_value_payments   \n",
       "99997                24.028477   High_spent_Large_value_payments   \n",
       "99998                24.028477    Low_spent_Large_value_payments   \n",
       "99999                24.028477  High_spent_Medium_value_payments   \n",
       "\n",
       "      Monthly_Balance  Credit_Score  \n",
       "0          312.494089          Good  \n",
       "1          284.629162          Good  \n",
       "2          331.209863          Good  \n",
       "3          223.451310          Good  \n",
       "4          341.489231          Good  \n",
       "...               ...           ...  \n",
       "99995      479.866228          Poor  \n",
       "99996      496.651610          Poor  \n",
       "99997      516.809083          Poor  \n",
       "99998      319.164979      Standard  \n",
       "99999      393.673696          Poor  \n",
       "\n",
       "[100000 rows x 28 columns]"
      ]
     },
     "execution_count": 3,
     "metadata": {},
     "output_type": "execute_result"
    }
   ],
   "source": [
    "df_origin_train = pd.read_csv('files/train.csv')\n",
    "df_train = df_origin_train.copy()\n",
    "df_train"
   ]
  },
  {
   "cell_type": "code",
   "execution_count": 4,
   "id": "e654f9ce",
   "metadata": {},
   "outputs": [
    {
     "data": {
      "text/html": [
       "<div>\n",
       "<style scoped>\n",
       "    .dataframe tbody tr th:only-of-type {\n",
       "        vertical-align: middle;\n",
       "    }\n",
       "\n",
       "    .dataframe tbody tr th {\n",
       "        vertical-align: top;\n",
       "    }\n",
       "\n",
       "    .dataframe thead th {\n",
       "        text-align: right;\n",
       "    }\n",
       "</style>\n",
       "<table border=\"1\" class=\"dataframe\">\n",
       "  <thead>\n",
       "    <tr style=\"text-align: right;\">\n",
       "      <th></th>\n",
       "      <th>ID</th>\n",
       "      <th>Customer_ID</th>\n",
       "      <th>Month</th>\n",
       "      <th>Name</th>\n",
       "      <th>Age</th>\n",
       "      <th>SSN</th>\n",
       "      <th>Occupation</th>\n",
       "      <th>Annual_Income</th>\n",
       "      <th>Monthly_Inhand_Salary</th>\n",
       "      <th>Num_Bank_Accounts</th>\n",
       "      <th>...</th>\n",
       "      <th>Num_Credit_Inquiries</th>\n",
       "      <th>Credit_Mix</th>\n",
       "      <th>Outstanding_Debt</th>\n",
       "      <th>Credit_Utilization_Ratio</th>\n",
       "      <th>Credit_History_Age</th>\n",
       "      <th>Payment_of_Min_Amount</th>\n",
       "      <th>Total_EMI_per_month</th>\n",
       "      <th>Amount_invested_monthly</th>\n",
       "      <th>Payment_Behaviour</th>\n",
       "      <th>Monthly_Balance</th>\n",
       "    </tr>\n",
       "  </thead>\n",
       "  <tbody>\n",
       "    <tr>\n",
       "      <th>0</th>\n",
       "      <td>5642</td>\n",
       "      <td>3392</td>\n",
       "      <td>9</td>\n",
       "      <td>Aaron Maashoh</td>\n",
       "      <td>23.0</td>\n",
       "      <td>821000265.0</td>\n",
       "      <td>Scientist</td>\n",
       "      <td>19114.12</td>\n",
       "      <td>1824.843333</td>\n",
       "      <td>3.0</td>\n",
       "      <td>...</td>\n",
       "      <td>4.0</td>\n",
       "      <td>Good</td>\n",
       "      <td>809.98</td>\n",
       "      <td>35.030402</td>\n",
       "      <td>273.0</td>\n",
       "      <td>No</td>\n",
       "      <td>49.574949</td>\n",
       "      <td>21.465380</td>\n",
       "      <td>Low_spent_Small_value_payments</td>\n",
       "      <td>186.266702</td>\n",
       "    </tr>\n",
       "    <tr>\n",
       "      <th>1</th>\n",
       "      <td>5643</td>\n",
       "      <td>3392</td>\n",
       "      <td>10</td>\n",
       "      <td>Aaron Maashoh</td>\n",
       "      <td>24.0</td>\n",
       "      <td>821000265.0</td>\n",
       "      <td>Scientist</td>\n",
       "      <td>19114.12</td>\n",
       "      <td>1824.843333</td>\n",
       "      <td>3.0</td>\n",
       "      <td>...</td>\n",
       "      <td>4.0</td>\n",
       "      <td>Good</td>\n",
       "      <td>809.98</td>\n",
       "      <td>33.053114</td>\n",
       "      <td>274.0</td>\n",
       "      <td>No</td>\n",
       "      <td>49.574949</td>\n",
       "      <td>21.465380</td>\n",
       "      <td>High_spent_Medium_value_payments</td>\n",
       "      <td>361.444004</td>\n",
       "    </tr>\n",
       "    <tr>\n",
       "      <th>2</th>\n",
       "      <td>5644</td>\n",
       "      <td>3392</td>\n",
       "      <td>11</td>\n",
       "      <td>Aaron Maashoh</td>\n",
       "      <td>24.0</td>\n",
       "      <td>821000265.0</td>\n",
       "      <td>Scientist</td>\n",
       "      <td>19114.12</td>\n",
       "      <td>1824.843333</td>\n",
       "      <td>3.0</td>\n",
       "      <td>...</td>\n",
       "      <td>4.0</td>\n",
       "      <td>Good</td>\n",
       "      <td>809.98</td>\n",
       "      <td>33.811894</td>\n",
       "      <td>275.0</td>\n",
       "      <td>No</td>\n",
       "      <td>49.574949</td>\n",
       "      <td>21.465380</td>\n",
       "      <td>Low_spent_Medium_value_payments</td>\n",
       "      <td>264.675446</td>\n",
       "    </tr>\n",
       "    <tr>\n",
       "      <th>3</th>\n",
       "      <td>5645</td>\n",
       "      <td>3392</td>\n",
       "      <td>12</td>\n",
       "      <td>Aaron Maashoh</td>\n",
       "      <td>24.0</td>\n",
       "      <td>821000265.0</td>\n",
       "      <td>Scientist</td>\n",
       "      <td>19114.12</td>\n",
       "      <td>1824.843333</td>\n",
       "      <td>3.0</td>\n",
       "      <td>...</td>\n",
       "      <td>4.0</td>\n",
       "      <td>Good</td>\n",
       "      <td>809.98</td>\n",
       "      <td>32.430559</td>\n",
       "      <td>276.0</td>\n",
       "      <td>No</td>\n",
       "      <td>49.574949</td>\n",
       "      <td>21.465380</td>\n",
       "      <td>High_spent_Medium_value_payments</td>\n",
       "      <td>343.826873</td>\n",
       "    </tr>\n",
       "    <tr>\n",
       "      <th>4</th>\n",
       "      <td>5654</td>\n",
       "      <td>8625</td>\n",
       "      <td>9</td>\n",
       "      <td>Rick Rothackerj</td>\n",
       "      <td>28.0</td>\n",
       "      <td>4075839.0</td>\n",
       "      <td>Teacher</td>\n",
       "      <td>34847.84</td>\n",
       "      <td>3037.986667</td>\n",
       "      <td>2.0</td>\n",
       "      <td>...</td>\n",
       "      <td>5.0</td>\n",
       "      <td>Good</td>\n",
       "      <td>605.03</td>\n",
       "      <td>25.926822</td>\n",
       "      <td>327.0</td>\n",
       "      <td>No</td>\n",
       "      <td>18.816215</td>\n",
       "      <td>39.684018</td>\n",
       "      <td>High_spent_Large_value_payments</td>\n",
       "      <td>485.298434</td>\n",
       "    </tr>\n",
       "    <tr>\n",
       "      <th>...</th>\n",
       "      <td>...</td>\n",
       "      <td>...</td>\n",
       "      <td>...</td>\n",
       "      <td>...</td>\n",
       "      <td>...</td>\n",
       "      <td>...</td>\n",
       "      <td>...</td>\n",
       "      <td>...</td>\n",
       "      <td>...</td>\n",
       "      <td>...</td>\n",
       "      <td>...</td>\n",
       "      <td>...</td>\n",
       "      <td>...</td>\n",
       "      <td>...</td>\n",
       "      <td>...</td>\n",
       "      <td>...</td>\n",
       "      <td>...</td>\n",
       "      <td>...</td>\n",
       "      <td>...</td>\n",
       "      <td>...</td>\n",
       "      <td>...</td>\n",
       "    </tr>\n",
       "    <tr>\n",
       "      <th>49995</th>\n",
       "      <td>155621</td>\n",
       "      <td>34304</td>\n",
       "      <td>12</td>\n",
       "      <td>Sarah McBridec</td>\n",
       "      <td>28.0</td>\n",
       "      <td>31350942.0</td>\n",
       "      <td>Architect</td>\n",
       "      <td>20002.88</td>\n",
       "      <td>1929.906667</td>\n",
       "      <td>10.0</td>\n",
       "      <td>...</td>\n",
       "      <td>12.0</td>\n",
       "      <td>Bad</td>\n",
       "      <td>3571.70</td>\n",
       "      <td>34.780553</td>\n",
       "      <td>78.0</td>\n",
       "      <td>Yes</td>\n",
       "      <td>60.964772</td>\n",
       "      <td>34.662906</td>\n",
       "      <td>Low_spent_Small_value_payments</td>\n",
       "      <td>275.539570</td>\n",
       "    </tr>\n",
       "    <tr>\n",
       "      <th>49996</th>\n",
       "      <td>155630</td>\n",
       "      <td>37932</td>\n",
       "      <td>9</td>\n",
       "      <td>Nicks</td>\n",
       "      <td>25.0</td>\n",
       "      <td>78735990.0</td>\n",
       "      <td>Mechanic</td>\n",
       "      <td>39628.99</td>\n",
       "      <td>3359.415833</td>\n",
       "      <td>4.0</td>\n",
       "      <td>...</td>\n",
       "      <td>7.0</td>\n",
       "      <td>Good</td>\n",
       "      <td>502.38</td>\n",
       "      <td>27.758522</td>\n",
       "      <td>383.0</td>\n",
       "      <td>NM</td>\n",
       "      <td>35.104023</td>\n",
       "      <td>24.028477</td>\n",
       "      <td>Low_spent_Small_value_payments</td>\n",
       "      <td>409.394562</td>\n",
       "    </tr>\n",
       "    <tr>\n",
       "      <th>49997</th>\n",
       "      <td>155631</td>\n",
       "      <td>37932</td>\n",
       "      <td>10</td>\n",
       "      <td>Nicks</td>\n",
       "      <td>25.0</td>\n",
       "      <td>78735990.0</td>\n",
       "      <td>Mechanic</td>\n",
       "      <td>39628.99</td>\n",
       "      <td>3359.415833</td>\n",
       "      <td>4.0</td>\n",
       "      <td>...</td>\n",
       "      <td>7.0</td>\n",
       "      <td>Good</td>\n",
       "      <td>502.38</td>\n",
       "      <td>36.858542</td>\n",
       "      <td>384.0</td>\n",
       "      <td>No</td>\n",
       "      <td>35.104023</td>\n",
       "      <td>24.028477</td>\n",
       "      <td>Low_spent_Large_value_payments</td>\n",
       "      <td>349.726332</td>\n",
       "    </tr>\n",
       "    <tr>\n",
       "      <th>49998</th>\n",
       "      <td>155632</td>\n",
       "      <td>37932</td>\n",
       "      <td>11</td>\n",
       "      <td>Nicks</td>\n",
       "      <td>25.0</td>\n",
       "      <td>78735990.0</td>\n",
       "      <td>Mechanic</td>\n",
       "      <td>39628.99</td>\n",
       "      <td>3359.415833</td>\n",
       "      <td>4.0</td>\n",
       "      <td>...</td>\n",
       "      <td>7.0</td>\n",
       "      <td>Good</td>\n",
       "      <td>502.38</td>\n",
       "      <td>39.139840</td>\n",
       "      <td>385.0</td>\n",
       "      <td>No</td>\n",
       "      <td>35.104023</td>\n",
       "      <td>24.028477</td>\n",
       "      <td>High_spent_Small_value_payments</td>\n",
       "      <td>463.238981</td>\n",
       "    </tr>\n",
       "    <tr>\n",
       "      <th>49999</th>\n",
       "      <td>155633</td>\n",
       "      <td>37932</td>\n",
       "      <td>12</td>\n",
       "      <td>Nicks</td>\n",
       "      <td>25.0</td>\n",
       "      <td>78735990.0</td>\n",
       "      <td>Mechanic</td>\n",
       "      <td>39628.99</td>\n",
       "      <td>3359.415833</td>\n",
       "      <td>4.0</td>\n",
       "      <td>...</td>\n",
       "      <td>7.0</td>\n",
       "      <td>Good</td>\n",
       "      <td>502.38</td>\n",
       "      <td>34.108530</td>\n",
       "      <td>386.0</td>\n",
       "      <td>No</td>\n",
       "      <td>35.104023</td>\n",
       "      <td>24.028477</td>\n",
       "      <td>Low_spent_Medium_value_payments</td>\n",
       "      <td>360.379683</td>\n",
       "    </tr>\n",
       "  </tbody>\n",
       "</table>\n",
       "<p>50000 rows × 27 columns</p>\n",
       "</div>"
      ],
      "text/plain": [
       "           ID  Customer_ID  Month             Name   Age          SSN  \\\n",
       "0        5642         3392      9    Aaron Maashoh  23.0  821000265.0   \n",
       "1        5643         3392     10    Aaron Maashoh  24.0  821000265.0   \n",
       "2        5644         3392     11    Aaron Maashoh  24.0  821000265.0   \n",
       "3        5645         3392     12    Aaron Maashoh  24.0  821000265.0   \n",
       "4        5654         8625      9  Rick Rothackerj  28.0    4075839.0   \n",
       "...       ...          ...    ...              ...   ...          ...   \n",
       "49995  155621        34304     12   Sarah McBridec  28.0   31350942.0   \n",
       "49996  155630        37932      9            Nicks  25.0   78735990.0   \n",
       "49997  155631        37932     10            Nicks  25.0   78735990.0   \n",
       "49998  155632        37932     11            Nicks  25.0   78735990.0   \n",
       "49999  155633        37932     12            Nicks  25.0   78735990.0   \n",
       "\n",
       "      Occupation  Annual_Income  Monthly_Inhand_Salary  Num_Bank_Accounts  \\\n",
       "0      Scientist       19114.12            1824.843333                3.0   \n",
       "1      Scientist       19114.12            1824.843333                3.0   \n",
       "2      Scientist       19114.12            1824.843333                3.0   \n",
       "3      Scientist       19114.12            1824.843333                3.0   \n",
       "4        Teacher       34847.84            3037.986667                2.0   \n",
       "...          ...            ...                    ...                ...   \n",
       "49995  Architect       20002.88            1929.906667               10.0   \n",
       "49996   Mechanic       39628.99            3359.415833                4.0   \n",
       "49997   Mechanic       39628.99            3359.415833                4.0   \n",
       "49998   Mechanic       39628.99            3359.415833                4.0   \n",
       "49999   Mechanic       39628.99            3359.415833                4.0   \n",
       "\n",
       "       ...  Num_Credit_Inquiries  Credit_Mix  Outstanding_Debt  \\\n",
       "0      ...                   4.0        Good            809.98   \n",
       "1      ...                   4.0        Good            809.98   \n",
       "2      ...                   4.0        Good            809.98   \n",
       "3      ...                   4.0        Good            809.98   \n",
       "4      ...                   5.0        Good            605.03   \n",
       "...    ...                   ...         ...               ...   \n",
       "49995  ...                  12.0         Bad           3571.70   \n",
       "49996  ...                   7.0        Good            502.38   \n",
       "49997  ...                   7.0        Good            502.38   \n",
       "49998  ...                   7.0        Good            502.38   \n",
       "49999  ...                   7.0        Good            502.38   \n",
       "\n",
       "      Credit_Utilization_Ratio  Credit_History_Age  Payment_of_Min_Amount  \\\n",
       "0                    35.030402               273.0                     No   \n",
       "1                    33.053114               274.0                     No   \n",
       "2                    33.811894               275.0                     No   \n",
       "3                    32.430559               276.0                     No   \n",
       "4                    25.926822               327.0                     No   \n",
       "...                        ...                 ...                    ...   \n",
       "49995                34.780553                78.0                    Yes   \n",
       "49996                27.758522               383.0                     NM   \n",
       "49997                36.858542               384.0                     No   \n",
       "49998                39.139840               385.0                     No   \n",
       "49999                34.108530               386.0                     No   \n",
       "\n",
       "       Total_EMI_per_month  Amount_invested_monthly  \\\n",
       "0                49.574949                21.465380   \n",
       "1                49.574949                21.465380   \n",
       "2                49.574949                21.465380   \n",
       "3                49.574949                21.465380   \n",
       "4                18.816215                39.684018   \n",
       "...                    ...                      ...   \n",
       "49995            60.964772                34.662906   \n",
       "49996            35.104023                24.028477   \n",
       "49997            35.104023                24.028477   \n",
       "49998            35.104023                24.028477   \n",
       "49999            35.104023                24.028477   \n",
       "\n",
       "                      Payment_Behaviour  Monthly_Balance  \n",
       "0        Low_spent_Small_value_payments       186.266702  \n",
       "1      High_spent_Medium_value_payments       361.444004  \n",
       "2       Low_spent_Medium_value_payments       264.675446  \n",
       "3      High_spent_Medium_value_payments       343.826873  \n",
       "4       High_spent_Large_value_payments       485.298434  \n",
       "...                                 ...              ...  \n",
       "49995    Low_spent_Small_value_payments       275.539570  \n",
       "49996    Low_spent_Small_value_payments       409.394562  \n",
       "49997    Low_spent_Large_value_payments       349.726332  \n",
       "49998   High_spent_Small_value_payments       463.238981  \n",
       "49999   Low_spent_Medium_value_payments       360.379683  \n",
       "\n",
       "[50000 rows x 27 columns]"
      ]
     },
     "execution_count": 4,
     "metadata": {},
     "output_type": "execute_result"
    }
   ],
   "source": [
    "df_origin_test = pd.read_csv('files/test.csv')\n",
    "df_test = df_origin_test.copy()\n",
    "df_test"
   ]
  },
  {
   "cell_type": "code",
   "execution_count": 5,
   "id": "a7032b2f",
   "metadata": {},
   "outputs": [
    {
     "data": {
      "text/plain": [
       "((100000, 28), (50000, 27))"
      ]
     },
     "execution_count": 5,
     "metadata": {},
     "output_type": "execute_result"
    }
   ],
   "source": [
    "df_train.shape, df_test.shape"
   ]
  },
  {
   "cell_type": "code",
   "execution_count": 6,
   "id": "61b9b0bd",
   "metadata": {},
   "outputs": [
    {
     "name": "stdout",
     "output_type": "stream",
     "text": [
      "<class 'pandas.core.frame.DataFrame'>\n",
      "RangeIndex: 100000 entries, 0 to 99999\n",
      "Data columns (total 28 columns):\n",
      " #   Column                    Non-Null Count   Dtype  \n",
      "---  ------                    --------------   -----  \n",
      " 0   ID                        100000 non-null  int64  \n",
      " 1   Customer_ID               100000 non-null  int64  \n",
      " 2   Month                     100000 non-null  int64  \n",
      " 3   Name                      100000 non-null  object \n",
      " 4   Age                       100000 non-null  float64\n",
      " 5   SSN                       100000 non-null  float64\n",
      " 6   Occupation                100000 non-null  object \n",
      " 7   Annual_Income             100000 non-null  float64\n",
      " 8   Monthly_Inhand_Salary     100000 non-null  float64\n",
      " 9   Num_Bank_Accounts         100000 non-null  float64\n",
      " 10  Num_Credit_Card           100000 non-null  float64\n",
      " 11  Interest_Rate             100000 non-null  float64\n",
      " 12  Num_of_Loan               100000 non-null  float64\n",
      " 13  Type_of_Loan              100000 non-null  object \n",
      " 14  Delay_from_due_date       100000 non-null  float64\n",
      " 15  Num_of_Delayed_Payment    100000 non-null  float64\n",
      " 16  Changed_Credit_Limit      100000 non-null  float64\n",
      " 17  Num_Credit_Inquiries      100000 non-null  float64\n",
      " 18  Credit_Mix                100000 non-null  object \n",
      " 19  Outstanding_Debt          100000 non-null  float64\n",
      " 20  Credit_Utilization_Ratio  100000 non-null  float64\n",
      " 21  Credit_History_Age        100000 non-null  float64\n",
      " 22  Payment_of_Min_Amount     100000 non-null  object \n",
      " 23  Total_EMI_per_month       100000 non-null  float64\n",
      " 24  Amount_invested_monthly   100000 non-null  float64\n",
      " 25  Payment_Behaviour         100000 non-null  object \n",
      " 26  Monthly_Balance           100000 non-null  float64\n",
      " 27  Credit_Score              100000 non-null  object \n",
      "dtypes: float64(18), int64(3), object(7)\n",
      "memory usage: 21.4+ MB\n",
      "\n",
      "<class 'pandas.core.frame.DataFrame'>\n",
      "RangeIndex: 50000 entries, 0 to 49999\n",
      "Data columns (total 27 columns):\n",
      " #   Column                    Non-Null Count  Dtype  \n",
      "---  ------                    --------------  -----  \n",
      " 0   ID                        50000 non-null  int64  \n",
      " 1   Customer_ID               50000 non-null  int64  \n",
      " 2   Month                     50000 non-null  int64  \n",
      " 3   Name                      50000 non-null  object \n",
      " 4   Age                       50000 non-null  float64\n",
      " 5   SSN                       50000 non-null  float64\n",
      " 6   Occupation                50000 non-null  object \n",
      " 7   Annual_Income             50000 non-null  float64\n",
      " 8   Monthly_Inhand_Salary     50000 non-null  float64\n",
      " 9   Num_Bank_Accounts         50000 non-null  float64\n",
      " 10  Num_Credit_Card           50000 non-null  float64\n",
      " 11  Interest_Rate             50000 non-null  float64\n",
      " 12  Num_of_Loan               50000 non-null  float64\n",
      " 13  Type_of_Loan              50000 non-null  object \n",
      " 14  Delay_from_due_date       50000 non-null  float64\n",
      " 15  Num_of_Delayed_Payment    50000 non-null  float64\n",
      " 16  Changed_Credit_Limit      50000 non-null  float64\n",
      " 17  Num_Credit_Inquiries      50000 non-null  float64\n",
      " 18  Credit_Mix                50000 non-null  object \n",
      " 19  Outstanding_Debt          50000 non-null  float64\n",
      " 20  Credit_Utilization_Ratio  50000 non-null  float64\n",
      " 21  Credit_History_Age        50000 non-null  float64\n",
      " 22  Payment_of_Min_Amount     50000 non-null  object \n",
      " 23  Total_EMI_per_month       50000 non-null  float64\n",
      " 24  Amount_invested_monthly   50000 non-null  float64\n",
      " 25  Payment_Behaviour         50000 non-null  object \n",
      " 26  Monthly_Balance           50000 non-null  float64\n",
      "dtypes: float64(18), int64(3), object(6)\n",
      "memory usage: 10.3+ MB\n"
     ]
    },
    {
     "data": {
      "text/plain": [
       "None"
      ]
     },
     "metadata": {},
     "output_type": "display_data"
    },
    {
     "data": {
      "text/plain": [
       "None"
      ]
     },
     "metadata": {},
     "output_type": "display_data"
    },
    {
     "data": {
      "text/plain": [
       "None"
      ]
     },
     "metadata": {},
     "output_type": "display_data"
    }
   ],
   "source": [
    "display(\n",
    "    df_train.info(), \n",
    "    print(), \n",
    "    df_test.info()\n",
    ")"
   ]
  },
  {
   "cell_type": "code",
   "execution_count": 7,
   "id": "ef628e3f",
   "metadata": {},
   "outputs": [
    {
     "name": "stdout",
     "output_type": "stream",
     "text": [
      "\n"
     ]
    },
    {
     "data": {
      "text/html": [
       "<div>\n",
       "<style scoped>\n",
       "    .dataframe tbody tr th:only-of-type {\n",
       "        vertical-align: middle;\n",
       "    }\n",
       "\n",
       "    .dataframe tbody tr th {\n",
       "        vertical-align: top;\n",
       "    }\n",
       "\n",
       "    .dataframe thead th {\n",
       "        text-align: right;\n",
       "    }\n",
       "</style>\n",
       "<table border=\"1\" class=\"dataframe\">\n",
       "  <thead>\n",
       "    <tr style=\"text-align: right;\">\n",
       "      <th></th>\n",
       "      <th>count</th>\n",
       "      <th>mean</th>\n",
       "      <th>std</th>\n",
       "      <th>min</th>\n",
       "      <th>25%</th>\n",
       "      <th>50%</th>\n",
       "      <th>75%</th>\n",
       "      <th>max</th>\n",
       "    </tr>\n",
       "  </thead>\n",
       "  <tbody>\n",
       "    <tr>\n",
       "      <th>ID</th>\n",
       "      <td>100000.0</td>\n",
       "      <td>8.063150e+04</td>\n",
       "      <td>4.330149e+04</td>\n",
       "      <td>5634.000000</td>\n",
       "      <td>4.313275e+04</td>\n",
       "      <td>8.063150e+04</td>\n",
       "      <td>1.181302e+05</td>\n",
       "      <td>1.556290e+05</td>\n",
       "    </tr>\n",
       "    <tr>\n",
       "      <th>Customer_ID</th>\n",
       "      <td>100000.0</td>\n",
       "      <td>2.598267e+04</td>\n",
       "      <td>1.434054e+04</td>\n",
       "      <td>1006.000000</td>\n",
       "      <td>1.366450e+04</td>\n",
       "      <td>2.577700e+04</td>\n",
       "      <td>3.838500e+04</td>\n",
       "      <td>5.099900e+04</td>\n",
       "    </tr>\n",
       "    <tr>\n",
       "      <th>Month</th>\n",
       "      <td>100000.0</td>\n",
       "      <td>4.500000e+00</td>\n",
       "      <td>2.291299e+00</td>\n",
       "      <td>1.000000</td>\n",
       "      <td>2.750000e+00</td>\n",
       "      <td>4.500000e+00</td>\n",
       "      <td>6.250000e+00</td>\n",
       "      <td>8.000000e+00</td>\n",
       "    </tr>\n",
       "    <tr>\n",
       "      <th>Age</th>\n",
       "      <td>100000.0</td>\n",
       "      <td>3.331634e+01</td>\n",
       "      <td>1.076481e+01</td>\n",
       "      <td>14.000000</td>\n",
       "      <td>2.400000e+01</td>\n",
       "      <td>3.300000e+01</td>\n",
       "      <td>4.200000e+01</td>\n",
       "      <td>5.600000e+01</td>\n",
       "    </tr>\n",
       "    <tr>\n",
       "      <th>SSN</th>\n",
       "      <td>100000.0</td>\n",
       "      <td>5.004617e+08</td>\n",
       "      <td>2.908267e+08</td>\n",
       "      <td>81349.000000</td>\n",
       "      <td>2.451686e+08</td>\n",
       "      <td>5.006886e+08</td>\n",
       "      <td>7.560027e+08</td>\n",
       "      <td>9.999934e+08</td>\n",
       "    </tr>\n",
       "    <tr>\n",
       "      <th>Annual_Income</th>\n",
       "      <td>100000.0</td>\n",
       "      <td>5.050512e+04</td>\n",
       "      <td>3.829942e+04</td>\n",
       "      <td>7005.930000</td>\n",
       "      <td>1.934297e+04</td>\n",
       "      <td>3.699971e+04</td>\n",
       "      <td>7.168347e+04</td>\n",
       "      <td>1.799873e+05</td>\n",
       "    </tr>\n",
       "    <tr>\n",
       "      <th>Monthly_Inhand_Salary</th>\n",
       "      <td>100000.0</td>\n",
       "      <td>4.197271e+03</td>\n",
       "      <td>3.186432e+03</td>\n",
       "      <td>303.645417</td>\n",
       "      <td>1.626594e+03</td>\n",
       "      <td>3.095905e+03</td>\n",
       "      <td>5.957715e+03</td>\n",
       "      <td>1.520463e+04</td>\n",
       "    </tr>\n",
       "    <tr>\n",
       "      <th>Num_Bank_Accounts</th>\n",
       "      <td>100000.0</td>\n",
       "      <td>5.368820e+00</td>\n",
       "      <td>2.593314e+00</td>\n",
       "      <td>0.000000</td>\n",
       "      <td>3.000000e+00</td>\n",
       "      <td>5.000000e+00</td>\n",
       "      <td>7.000000e+00</td>\n",
       "      <td>1.100000e+01</td>\n",
       "    </tr>\n",
       "    <tr>\n",
       "      <th>Num_Credit_Card</th>\n",
       "      <td>100000.0</td>\n",
       "      <td>5.533570e+00</td>\n",
       "      <td>2.067098e+00</td>\n",
       "      <td>0.000000</td>\n",
       "      <td>4.000000e+00</td>\n",
       "      <td>5.000000e+00</td>\n",
       "      <td>7.000000e+00</td>\n",
       "      <td>1.100000e+01</td>\n",
       "    </tr>\n",
       "    <tr>\n",
       "      <th>Interest_Rate</th>\n",
       "      <td>100000.0</td>\n",
       "      <td>1.453208e+01</td>\n",
       "      <td>8.741330e+00</td>\n",
       "      <td>1.000000</td>\n",
       "      <td>7.000000e+00</td>\n",
       "      <td>1.300000e+01</td>\n",
       "      <td>2.000000e+01</td>\n",
       "      <td>3.400000e+01</td>\n",
       "    </tr>\n",
       "    <tr>\n",
       "      <th>Num_of_Loan</th>\n",
       "      <td>100000.0</td>\n",
       "      <td>3.532880e+00</td>\n",
       "      <td>2.446356e+00</td>\n",
       "      <td>0.000000</td>\n",
       "      <td>2.000000e+00</td>\n",
       "      <td>3.000000e+00</td>\n",
       "      <td>5.000000e+00</td>\n",
       "      <td>9.000000e+00</td>\n",
       "    </tr>\n",
       "    <tr>\n",
       "      <th>Delay_from_due_date</th>\n",
       "      <td>100000.0</td>\n",
       "      <td>2.108141e+01</td>\n",
       "      <td>1.480456e+01</td>\n",
       "      <td>0.000000</td>\n",
       "      <td>1.000000e+01</td>\n",
       "      <td>1.800000e+01</td>\n",
       "      <td>2.800000e+01</td>\n",
       "      <td>6.200000e+01</td>\n",
       "    </tr>\n",
       "    <tr>\n",
       "      <th>Num_of_Delayed_Payment</th>\n",
       "      <td>100000.0</td>\n",
       "      <td>1.331312e+01</td>\n",
       "      <td>6.237166e+00</td>\n",
       "      <td>0.000000</td>\n",
       "      <td>9.000000e+00</td>\n",
       "      <td>1.400000e+01</td>\n",
       "      <td>1.800000e+01</td>\n",
       "      <td>2.500000e+01</td>\n",
       "    </tr>\n",
       "    <tr>\n",
       "      <th>Changed_Credit_Limit</th>\n",
       "      <td>100000.0</td>\n",
       "      <td>1.047032e+01</td>\n",
       "      <td>6.609481e+00</td>\n",
       "      <td>0.500000</td>\n",
       "      <td>5.380000e+00</td>\n",
       "      <td>9.400000e+00</td>\n",
       "      <td>1.485000e+01</td>\n",
       "      <td>2.998000e+01</td>\n",
       "    </tr>\n",
       "    <tr>\n",
       "      <th>Num_Credit_Inquiries</th>\n",
       "      <td>100000.0</td>\n",
       "      <td>5.798250e+00</td>\n",
       "      <td>3.867826e+00</td>\n",
       "      <td>0.000000</td>\n",
       "      <td>3.000000e+00</td>\n",
       "      <td>5.000000e+00</td>\n",
       "      <td>8.000000e+00</td>\n",
       "      <td>1.700000e+01</td>\n",
       "    </tr>\n",
       "    <tr>\n",
       "      <th>Outstanding_Debt</th>\n",
       "      <td>100000.0</td>\n",
       "      <td>1.426220e+03</td>\n",
       "      <td>1.155129e+03</td>\n",
       "      <td>0.230000</td>\n",
       "      <td>5.660725e+02</td>\n",
       "      <td>1.166155e+03</td>\n",
       "      <td>1.945963e+03</td>\n",
       "      <td>4.998070e+03</td>\n",
       "    </tr>\n",
       "    <tr>\n",
       "      <th>Credit_Utilization_Ratio</th>\n",
       "      <td>100000.0</td>\n",
       "      <td>3.228517e+01</td>\n",
       "      <td>5.116875e+00</td>\n",
       "      <td>20.000000</td>\n",
       "      <td>2.805257e+01</td>\n",
       "      <td>3.230578e+01</td>\n",
       "      <td>3.649666e+01</td>\n",
       "      <td>5.000000e+01</td>\n",
       "    </tr>\n",
       "    <tr>\n",
       "      <th>Credit_History_Age</th>\n",
       "      <td>100000.0</td>\n",
       "      <td>2.212205e+02</td>\n",
       "      <td>9.968072e+01</td>\n",
       "      <td>1.000000</td>\n",
       "      <td>1.440000e+02</td>\n",
       "      <td>2.190000e+02</td>\n",
       "      <td>3.020000e+02</td>\n",
       "      <td>4.040000e+02</td>\n",
       "    </tr>\n",
       "    <tr>\n",
       "      <th>Total_EMI_per_month</th>\n",
       "      <td>100000.0</td>\n",
       "      <td>1.076992e+02</td>\n",
       "      <td>1.322671e+02</td>\n",
       "      <td>0.000000</td>\n",
       "      <td>2.926889e+01</td>\n",
       "      <td>6.646230e+01</td>\n",
       "      <td>1.473926e+02</td>\n",
       "      <td>1.779103e+03</td>\n",
       "    </tr>\n",
       "    <tr>\n",
       "      <th>Amount_invested_monthly</th>\n",
       "      <td>100000.0</td>\n",
       "      <td>5.510131e+01</td>\n",
       "      <td>3.900693e+01</td>\n",
       "      <td>0.000000</td>\n",
       "      <td>2.795911e+01</td>\n",
       "      <td>4.515655e+01</td>\n",
       "      <td>7.129580e+01</td>\n",
       "      <td>4.341911e+02</td>\n",
       "    </tr>\n",
       "    <tr>\n",
       "      <th>Monthly_Balance</th>\n",
       "      <td>100000.0</td>\n",
       "      <td>3.926976e+02</td>\n",
       "      <td>2.016527e+02</td>\n",
       "      <td>0.007760</td>\n",
       "      <td>2.676160e+02</td>\n",
       "      <td>3.338654e+02</td>\n",
       "      <td>4.632157e+02</td>\n",
       "      <td>1.183931e+03</td>\n",
       "    </tr>\n",
       "  </tbody>\n",
       "</table>\n",
       "</div>"
      ],
      "text/plain": [
       "                             count          mean           std           min  \\\n",
       "ID                        100000.0  8.063150e+04  4.330149e+04   5634.000000   \n",
       "Customer_ID               100000.0  2.598267e+04  1.434054e+04   1006.000000   \n",
       "Month                     100000.0  4.500000e+00  2.291299e+00      1.000000   \n",
       "Age                       100000.0  3.331634e+01  1.076481e+01     14.000000   \n",
       "SSN                       100000.0  5.004617e+08  2.908267e+08  81349.000000   \n",
       "Annual_Income             100000.0  5.050512e+04  3.829942e+04   7005.930000   \n",
       "Monthly_Inhand_Salary     100000.0  4.197271e+03  3.186432e+03    303.645417   \n",
       "Num_Bank_Accounts         100000.0  5.368820e+00  2.593314e+00      0.000000   \n",
       "Num_Credit_Card           100000.0  5.533570e+00  2.067098e+00      0.000000   \n",
       "Interest_Rate             100000.0  1.453208e+01  8.741330e+00      1.000000   \n",
       "Num_of_Loan               100000.0  3.532880e+00  2.446356e+00      0.000000   \n",
       "Delay_from_due_date       100000.0  2.108141e+01  1.480456e+01      0.000000   \n",
       "Num_of_Delayed_Payment    100000.0  1.331312e+01  6.237166e+00      0.000000   \n",
       "Changed_Credit_Limit      100000.0  1.047032e+01  6.609481e+00      0.500000   \n",
       "Num_Credit_Inquiries      100000.0  5.798250e+00  3.867826e+00      0.000000   \n",
       "Outstanding_Debt          100000.0  1.426220e+03  1.155129e+03      0.230000   \n",
       "Credit_Utilization_Ratio  100000.0  3.228517e+01  5.116875e+00     20.000000   \n",
       "Credit_History_Age        100000.0  2.212205e+02  9.968072e+01      1.000000   \n",
       "Total_EMI_per_month       100000.0  1.076992e+02  1.322671e+02      0.000000   \n",
       "Amount_invested_monthly   100000.0  5.510131e+01  3.900693e+01      0.000000   \n",
       "Monthly_Balance           100000.0  3.926976e+02  2.016527e+02      0.007760   \n",
       "\n",
       "                                   25%           50%           75%  \\\n",
       "ID                        4.313275e+04  8.063150e+04  1.181302e+05   \n",
       "Customer_ID               1.366450e+04  2.577700e+04  3.838500e+04   \n",
       "Month                     2.750000e+00  4.500000e+00  6.250000e+00   \n",
       "Age                       2.400000e+01  3.300000e+01  4.200000e+01   \n",
       "SSN                       2.451686e+08  5.006886e+08  7.560027e+08   \n",
       "Annual_Income             1.934297e+04  3.699971e+04  7.168347e+04   \n",
       "Monthly_Inhand_Salary     1.626594e+03  3.095905e+03  5.957715e+03   \n",
       "Num_Bank_Accounts         3.000000e+00  5.000000e+00  7.000000e+00   \n",
       "Num_Credit_Card           4.000000e+00  5.000000e+00  7.000000e+00   \n",
       "Interest_Rate             7.000000e+00  1.300000e+01  2.000000e+01   \n",
       "Num_of_Loan               2.000000e+00  3.000000e+00  5.000000e+00   \n",
       "Delay_from_due_date       1.000000e+01  1.800000e+01  2.800000e+01   \n",
       "Num_of_Delayed_Payment    9.000000e+00  1.400000e+01  1.800000e+01   \n",
       "Changed_Credit_Limit      5.380000e+00  9.400000e+00  1.485000e+01   \n",
       "Num_Credit_Inquiries      3.000000e+00  5.000000e+00  8.000000e+00   \n",
       "Outstanding_Debt          5.660725e+02  1.166155e+03  1.945963e+03   \n",
       "Credit_Utilization_Ratio  2.805257e+01  3.230578e+01  3.649666e+01   \n",
       "Credit_History_Age        1.440000e+02  2.190000e+02  3.020000e+02   \n",
       "Total_EMI_per_month       2.926889e+01  6.646230e+01  1.473926e+02   \n",
       "Amount_invested_monthly   2.795911e+01  4.515655e+01  7.129580e+01   \n",
       "Monthly_Balance           2.676160e+02  3.338654e+02  4.632157e+02   \n",
       "\n",
       "                                   max  \n",
       "ID                        1.556290e+05  \n",
       "Customer_ID               5.099900e+04  \n",
       "Month                     8.000000e+00  \n",
       "Age                       5.600000e+01  \n",
       "SSN                       9.999934e+08  \n",
       "Annual_Income             1.799873e+05  \n",
       "Monthly_Inhand_Salary     1.520463e+04  \n",
       "Num_Bank_Accounts         1.100000e+01  \n",
       "Num_Credit_Card           1.100000e+01  \n",
       "Interest_Rate             3.400000e+01  \n",
       "Num_of_Loan               9.000000e+00  \n",
       "Delay_from_due_date       6.200000e+01  \n",
       "Num_of_Delayed_Payment    2.500000e+01  \n",
       "Changed_Credit_Limit      2.998000e+01  \n",
       "Num_Credit_Inquiries      1.700000e+01  \n",
       "Outstanding_Debt          4.998070e+03  \n",
       "Credit_Utilization_Ratio  5.000000e+01  \n",
       "Credit_History_Age        4.040000e+02  \n",
       "Total_EMI_per_month       1.779103e+03  \n",
       "Amount_invested_monthly   4.341911e+02  \n",
       "Monthly_Balance           1.183931e+03  "
      ]
     },
     "metadata": {},
     "output_type": "display_data"
    },
    {
     "data": {
      "text/plain": [
       "None"
      ]
     },
     "metadata": {},
     "output_type": "display_data"
    },
    {
     "data": {
      "text/html": [
       "<div>\n",
       "<style scoped>\n",
       "    .dataframe tbody tr th:only-of-type {\n",
       "        vertical-align: middle;\n",
       "    }\n",
       "\n",
       "    .dataframe tbody tr th {\n",
       "        vertical-align: top;\n",
       "    }\n",
       "\n",
       "    .dataframe thead th {\n",
       "        text-align: right;\n",
       "    }\n",
       "</style>\n",
       "<table border=\"1\" class=\"dataframe\">\n",
       "  <thead>\n",
       "    <tr style=\"text-align: right;\">\n",
       "      <th></th>\n",
       "      <th>count</th>\n",
       "      <th>mean</th>\n",
       "      <th>std</th>\n",
       "      <th>min</th>\n",
       "      <th>25%</th>\n",
       "      <th>50%</th>\n",
       "      <th>75%</th>\n",
       "      <th>max</th>\n",
       "    </tr>\n",
       "  </thead>\n",
       "  <tbody>\n",
       "    <tr>\n",
       "      <th>ID</th>\n",
       "      <td>50000.0</td>\n",
       "      <td>8.063750e+04</td>\n",
       "      <td>4.330170e+04</td>\n",
       "      <td>5642.000000</td>\n",
       "      <td>4.313975e+04</td>\n",
       "      <td>8.063750e+04</td>\n",
       "      <td>1.181352e+05</td>\n",
       "      <td>1.556330e+05</td>\n",
       "    </tr>\n",
       "    <tr>\n",
       "      <th>Customer_ID</th>\n",
       "      <td>50000.0</td>\n",
       "      <td>2.598267e+04</td>\n",
       "      <td>1.434061e+04</td>\n",
       "      <td>1006.000000</td>\n",
       "      <td>1.366450e+04</td>\n",
       "      <td>2.577700e+04</td>\n",
       "      <td>3.838500e+04</td>\n",
       "      <td>5.099900e+04</td>\n",
       "    </tr>\n",
       "    <tr>\n",
       "      <th>Month</th>\n",
       "      <td>50000.0</td>\n",
       "      <td>1.050000e+01</td>\n",
       "      <td>1.118045e+00</td>\n",
       "      <td>9.000000</td>\n",
       "      <td>9.750000e+00</td>\n",
       "      <td>1.050000e+01</td>\n",
       "      <td>1.125000e+01</td>\n",
       "      <td>1.200000e+01</td>\n",
       "    </tr>\n",
       "    <tr>\n",
       "      <th>Age</th>\n",
       "      <td>50000.0</td>\n",
       "      <td>3.380450e+01</td>\n",
       "      <td>1.076458e+01</td>\n",
       "      <td>14.000000</td>\n",
       "      <td>2.500000e+01</td>\n",
       "      <td>3.300000e+01</td>\n",
       "      <td>4.200000e+01</td>\n",
       "      <td>5.600000e+01</td>\n",
       "    </tr>\n",
       "    <tr>\n",
       "      <th>SSN</th>\n",
       "      <td>50000.0</td>\n",
       "      <td>5.004617e+08</td>\n",
       "      <td>2.908282e+08</td>\n",
       "      <td>81349.000000</td>\n",
       "      <td>2.451686e+08</td>\n",
       "      <td>5.006886e+08</td>\n",
       "      <td>7.560027e+08</td>\n",
       "      <td>9.999934e+08</td>\n",
       "    </tr>\n",
       "    <tr>\n",
       "      <th>Annual_Income</th>\n",
       "      <td>50000.0</td>\n",
       "      <td>5.050512e+04</td>\n",
       "      <td>3.829961e+04</td>\n",
       "      <td>7005.930000</td>\n",
       "      <td>1.934297e+04</td>\n",
       "      <td>3.699971e+04</td>\n",
       "      <td>7.168347e+04</td>\n",
       "      <td>1.799873e+05</td>\n",
       "    </tr>\n",
       "    <tr>\n",
       "      <th>Monthly_Inhand_Salary</th>\n",
       "      <td>50000.0</td>\n",
       "      <td>4.183034e+03</td>\n",
       "      <td>3.175319e+03</td>\n",
       "      <td>303.645417</td>\n",
       "      <td>1.623555e+03</td>\n",
       "      <td>3.082272e+03</td>\n",
       "      <td>5.937530e+03</td>\n",
       "      <td>1.520463e+04</td>\n",
       "    </tr>\n",
       "    <tr>\n",
       "      <th>Num_Bank_Accounts</th>\n",
       "      <td>50000.0</td>\n",
       "      <td>5.369220e+00</td>\n",
       "      <td>2.594886e+00</td>\n",
       "      <td>0.000000</td>\n",
       "      <td>3.000000e+00</td>\n",
       "      <td>5.000000e+00</td>\n",
       "      <td>7.000000e+00</td>\n",
       "      <td>1.100000e+01</td>\n",
       "    </tr>\n",
       "    <tr>\n",
       "      <th>Num_Credit_Card</th>\n",
       "      <td>50000.0</td>\n",
       "      <td>5.533840e+00</td>\n",
       "      <td>2.071835e+00</td>\n",
       "      <td>0.000000</td>\n",
       "      <td>4.000000e+00</td>\n",
       "      <td>5.000000e+00</td>\n",
       "      <td>7.000000e+00</td>\n",
       "      <td>1.100000e+01</td>\n",
       "    </tr>\n",
       "    <tr>\n",
       "      <th>Interest_Rate</th>\n",
       "      <td>50000.0</td>\n",
       "      <td>1.453208e+01</td>\n",
       "      <td>8.741374e+00</td>\n",
       "      <td>1.000000</td>\n",
       "      <td>7.000000e+00</td>\n",
       "      <td>1.300000e+01</td>\n",
       "      <td>2.000000e+01</td>\n",
       "      <td>3.400000e+01</td>\n",
       "    </tr>\n",
       "    <tr>\n",
       "      <th>Num_of_Loan</th>\n",
       "      <td>50000.0</td>\n",
       "      <td>3.532880e+00</td>\n",
       "      <td>2.446368e+00</td>\n",
       "      <td>0.000000</td>\n",
       "      <td>2.000000e+00</td>\n",
       "      <td>3.000000e+00</td>\n",
       "      <td>5.000000e+00</td>\n",
       "      <td>9.000000e+00</td>\n",
       "    </tr>\n",
       "    <tr>\n",
       "      <th>Delay_from_due_date</th>\n",
       "      <td>50000.0</td>\n",
       "      <td>2.106744e+01</td>\n",
       "      <td>1.480559e+01</td>\n",
       "      <td>0.000000</td>\n",
       "      <td>1.000000e+01</td>\n",
       "      <td>1.800000e+01</td>\n",
       "      <td>2.800000e+01</td>\n",
       "      <td>6.200000e+01</td>\n",
       "    </tr>\n",
       "    <tr>\n",
       "      <th>Num_of_Delayed_Payment</th>\n",
       "      <td>50000.0</td>\n",
       "      <td>1.331500e+01</td>\n",
       "      <td>6.238243e+00</td>\n",
       "      <td>0.000000</td>\n",
       "      <td>9.000000e+00</td>\n",
       "      <td>1.400000e+01</td>\n",
       "      <td>1.800000e+01</td>\n",
       "      <td>2.500000e+01</td>\n",
       "    </tr>\n",
       "    <tr>\n",
       "      <th>Changed_Credit_Limit</th>\n",
       "      <td>50000.0</td>\n",
       "      <td>1.046524e+01</td>\n",
       "      <td>6.605854e+00</td>\n",
       "      <td>0.500000</td>\n",
       "      <td>5.380000e+00</td>\n",
       "      <td>9.410000e+00</td>\n",
       "      <td>1.481000e+01</td>\n",
       "      <td>2.998000e+01</td>\n",
       "    </tr>\n",
       "    <tr>\n",
       "      <th>Num_Credit_Inquiries</th>\n",
       "      <td>50000.0</td>\n",
       "      <td>7.240320e+00</td>\n",
       "      <td>3.960970e+00</td>\n",
       "      <td>0.000000</td>\n",
       "      <td>4.000000e+00</td>\n",
       "      <td>7.000000e+00</td>\n",
       "      <td>1.000000e+01</td>\n",
       "      <td>1.700000e+01</td>\n",
       "    </tr>\n",
       "    <tr>\n",
       "      <th>Outstanding_Debt</th>\n",
       "      <td>50000.0</td>\n",
       "      <td>1.426220e+03</td>\n",
       "      <td>1.155135e+03</td>\n",
       "      <td>0.230000</td>\n",
       "      <td>5.660725e+02</td>\n",
       "      <td>1.166155e+03</td>\n",
       "      <td>1.945963e+03</td>\n",
       "      <td>4.998070e+03</td>\n",
       "    </tr>\n",
       "    <tr>\n",
       "      <th>Credit_Utilization_Ratio</th>\n",
       "      <td>50000.0</td>\n",
       "      <td>3.227958e+01</td>\n",
       "      <td>5.106238e+00</td>\n",
       "      <td>20.509652</td>\n",
       "      <td>2.806104e+01</td>\n",
       "      <td>3.228039e+01</td>\n",
       "      <td>3.646859e+01</td>\n",
       "      <td>4.854066e+01</td>\n",
       "    </tr>\n",
       "    <tr>\n",
       "      <th>Credit_History_Age</th>\n",
       "      <td>50000.0</td>\n",
       "      <td>2.271788e+02</td>\n",
       "      <td>9.966287e+01</td>\n",
       "      <td>9.000000</td>\n",
       "      <td>1.500000e+02</td>\n",
       "      <td>2.250000e+02</td>\n",
       "      <td>3.080000e+02</td>\n",
       "      <td>4.080000e+02</td>\n",
       "    </tr>\n",
       "    <tr>\n",
       "      <th>Total_EMI_per_month</th>\n",
       "      <td>50000.0</td>\n",
       "      <td>1.239807e+02</td>\n",
       "      <td>1.651907e+02</td>\n",
       "      <td>0.000000</td>\n",
       "      <td>3.115536e+01</td>\n",
       "      <td>7.160048e+01</td>\n",
       "      <td>1.631295e+02</td>\n",
       "      <td>1.779103e+03</td>\n",
       "    </tr>\n",
       "    <tr>\n",
       "      <th>Amount_invested_monthly</th>\n",
       "      <td>50000.0</td>\n",
       "      <td>5.510131e+01</td>\n",
       "      <td>3.900713e+01</td>\n",
       "      <td>0.000000</td>\n",
       "      <td>2.795911e+01</td>\n",
       "      <td>4.515655e+01</td>\n",
       "      <td>7.129580e+01</td>\n",
       "      <td>4.341911e+02</td>\n",
       "    </tr>\n",
       "    <tr>\n",
       "      <th>Monthly_Balance</th>\n",
       "      <td>50000.0</td>\n",
       "      <td>3.934160e+02</td>\n",
       "      <td>2.018459e+02</td>\n",
       "      <td>0.095482</td>\n",
       "      <td>2.679378e+02</td>\n",
       "      <td>3.340031e+02</td>\n",
       "      <td>4.638757e+02</td>\n",
       "      <td>1.183931e+03</td>\n",
       "    </tr>\n",
       "  </tbody>\n",
       "</table>\n",
       "</div>"
      ],
      "text/plain": [
       "                            count          mean           std           min  \\\n",
       "ID                        50000.0  8.063750e+04  4.330170e+04   5642.000000   \n",
       "Customer_ID               50000.0  2.598267e+04  1.434061e+04   1006.000000   \n",
       "Month                     50000.0  1.050000e+01  1.118045e+00      9.000000   \n",
       "Age                       50000.0  3.380450e+01  1.076458e+01     14.000000   \n",
       "SSN                       50000.0  5.004617e+08  2.908282e+08  81349.000000   \n",
       "Annual_Income             50000.0  5.050512e+04  3.829961e+04   7005.930000   \n",
       "Monthly_Inhand_Salary     50000.0  4.183034e+03  3.175319e+03    303.645417   \n",
       "Num_Bank_Accounts         50000.0  5.369220e+00  2.594886e+00      0.000000   \n",
       "Num_Credit_Card           50000.0  5.533840e+00  2.071835e+00      0.000000   \n",
       "Interest_Rate             50000.0  1.453208e+01  8.741374e+00      1.000000   \n",
       "Num_of_Loan               50000.0  3.532880e+00  2.446368e+00      0.000000   \n",
       "Delay_from_due_date       50000.0  2.106744e+01  1.480559e+01      0.000000   \n",
       "Num_of_Delayed_Payment    50000.0  1.331500e+01  6.238243e+00      0.000000   \n",
       "Changed_Credit_Limit      50000.0  1.046524e+01  6.605854e+00      0.500000   \n",
       "Num_Credit_Inquiries      50000.0  7.240320e+00  3.960970e+00      0.000000   \n",
       "Outstanding_Debt          50000.0  1.426220e+03  1.155135e+03      0.230000   \n",
       "Credit_Utilization_Ratio  50000.0  3.227958e+01  5.106238e+00     20.509652   \n",
       "Credit_History_Age        50000.0  2.271788e+02  9.966287e+01      9.000000   \n",
       "Total_EMI_per_month       50000.0  1.239807e+02  1.651907e+02      0.000000   \n",
       "Amount_invested_monthly   50000.0  5.510131e+01  3.900713e+01      0.000000   \n",
       "Monthly_Balance           50000.0  3.934160e+02  2.018459e+02      0.095482   \n",
       "\n",
       "                                   25%           50%           75%  \\\n",
       "ID                        4.313975e+04  8.063750e+04  1.181352e+05   \n",
       "Customer_ID               1.366450e+04  2.577700e+04  3.838500e+04   \n",
       "Month                     9.750000e+00  1.050000e+01  1.125000e+01   \n",
       "Age                       2.500000e+01  3.300000e+01  4.200000e+01   \n",
       "SSN                       2.451686e+08  5.006886e+08  7.560027e+08   \n",
       "Annual_Income             1.934297e+04  3.699971e+04  7.168347e+04   \n",
       "Monthly_Inhand_Salary     1.623555e+03  3.082272e+03  5.937530e+03   \n",
       "Num_Bank_Accounts         3.000000e+00  5.000000e+00  7.000000e+00   \n",
       "Num_Credit_Card           4.000000e+00  5.000000e+00  7.000000e+00   \n",
       "Interest_Rate             7.000000e+00  1.300000e+01  2.000000e+01   \n",
       "Num_of_Loan               2.000000e+00  3.000000e+00  5.000000e+00   \n",
       "Delay_from_due_date       1.000000e+01  1.800000e+01  2.800000e+01   \n",
       "Num_of_Delayed_Payment    9.000000e+00  1.400000e+01  1.800000e+01   \n",
       "Changed_Credit_Limit      5.380000e+00  9.410000e+00  1.481000e+01   \n",
       "Num_Credit_Inquiries      4.000000e+00  7.000000e+00  1.000000e+01   \n",
       "Outstanding_Debt          5.660725e+02  1.166155e+03  1.945963e+03   \n",
       "Credit_Utilization_Ratio  2.806104e+01  3.228039e+01  3.646859e+01   \n",
       "Credit_History_Age        1.500000e+02  2.250000e+02  3.080000e+02   \n",
       "Total_EMI_per_month       3.115536e+01  7.160048e+01  1.631295e+02   \n",
       "Amount_invested_monthly   2.795911e+01  4.515655e+01  7.129580e+01   \n",
       "Monthly_Balance           2.679378e+02  3.340031e+02  4.638757e+02   \n",
       "\n",
       "                                   max  \n",
       "ID                        1.556330e+05  \n",
       "Customer_ID               5.099900e+04  \n",
       "Month                     1.200000e+01  \n",
       "Age                       5.600000e+01  \n",
       "SSN                       9.999934e+08  \n",
       "Annual_Income             1.799873e+05  \n",
       "Monthly_Inhand_Salary     1.520463e+04  \n",
       "Num_Bank_Accounts         1.100000e+01  \n",
       "Num_Credit_Card           1.100000e+01  \n",
       "Interest_Rate             3.400000e+01  \n",
       "Num_of_Loan               9.000000e+00  \n",
       "Delay_from_due_date       6.200000e+01  \n",
       "Num_of_Delayed_Payment    2.500000e+01  \n",
       "Changed_Credit_Limit      2.998000e+01  \n",
       "Num_Credit_Inquiries      1.700000e+01  \n",
       "Outstanding_Debt          4.998070e+03  \n",
       "Credit_Utilization_Ratio  4.854066e+01  \n",
       "Credit_History_Age        4.080000e+02  \n",
       "Total_EMI_per_month       1.779103e+03  \n",
       "Amount_invested_monthly   4.341911e+02  \n",
       "Monthly_Balance           1.183931e+03  "
      ]
     },
     "metadata": {},
     "output_type": "display_data"
    }
   ],
   "source": [
    "display(\n",
    "    df_train.describe().T, \n",
    "    print(), \n",
    "    df_test.describe().T\n",
    ")"
   ]
  },
  {
   "cell_type": "code",
   "execution_count": 8,
   "id": "77da7608",
   "metadata": {},
   "outputs": [
    {
     "name": "stdout",
     "output_type": "stream",
     "text": [
      "\n"
     ]
    },
    {
     "data": {
      "text/html": [
       "<div>\n",
       "<style scoped>\n",
       "    .dataframe tbody tr th:only-of-type {\n",
       "        vertical-align: middle;\n",
       "    }\n",
       "\n",
       "    .dataframe tbody tr th {\n",
       "        vertical-align: top;\n",
       "    }\n",
       "\n",
       "    .dataframe thead th {\n",
       "        text-align: right;\n",
       "    }\n",
       "</style>\n",
       "<table border=\"1\" class=\"dataframe\">\n",
       "  <thead>\n",
       "    <tr style=\"text-align: right;\">\n",
       "      <th></th>\n",
       "      <th>count</th>\n",
       "      <th>unique</th>\n",
       "      <th>top</th>\n",
       "      <th>freq</th>\n",
       "    </tr>\n",
       "  </thead>\n",
       "  <tbody>\n",
       "    <tr>\n",
       "      <th>Name</th>\n",
       "      <td>100000</td>\n",
       "      <td>10128</td>\n",
       "      <td>Jessicad</td>\n",
       "      <td>48</td>\n",
       "    </tr>\n",
       "    <tr>\n",
       "      <th>Occupation</th>\n",
       "      <td>100000</td>\n",
       "      <td>15</td>\n",
       "      <td>Lawyer</td>\n",
       "      <td>7096</td>\n",
       "    </tr>\n",
       "    <tr>\n",
       "      <th>Type_of_Loan</th>\n",
       "      <td>100000</td>\n",
       "      <td>6261</td>\n",
       "      <td>No Data</td>\n",
       "      <td>11408</td>\n",
       "    </tr>\n",
       "    <tr>\n",
       "      <th>Credit_Mix</th>\n",
       "      <td>100000</td>\n",
       "      <td>3</td>\n",
       "      <td>Standard</td>\n",
       "      <td>45848</td>\n",
       "    </tr>\n",
       "    <tr>\n",
       "      <th>Payment_of_Min_Amount</th>\n",
       "      <td>100000</td>\n",
       "      <td>3</td>\n",
       "      <td>Yes</td>\n",
       "      <td>52326</td>\n",
       "    </tr>\n",
       "    <tr>\n",
       "      <th>Payment_Behaviour</th>\n",
       "      <td>100000</td>\n",
       "      <td>6</td>\n",
       "      <td>Low_spent_Small_value_payments</td>\n",
       "      <td>28108</td>\n",
       "    </tr>\n",
       "    <tr>\n",
       "      <th>Credit_Score</th>\n",
       "      <td>100000</td>\n",
       "      <td>3</td>\n",
       "      <td>Standard</td>\n",
       "      <td>53174</td>\n",
       "    </tr>\n",
       "  </tbody>\n",
       "</table>\n",
       "</div>"
      ],
      "text/plain": [
       "                        count unique                             top   freq\n",
       "Name                   100000  10128                        Jessicad     48\n",
       "Occupation             100000     15                          Lawyer   7096\n",
       "Type_of_Loan           100000   6261                         No Data  11408\n",
       "Credit_Mix             100000      3                        Standard  45848\n",
       "Payment_of_Min_Amount  100000      3                             Yes  52326\n",
       "Payment_Behaviour      100000      6  Low_spent_Small_value_payments  28108\n",
       "Credit_Score           100000      3                        Standard  53174"
      ]
     },
     "metadata": {},
     "output_type": "display_data"
    },
    {
     "data": {
      "text/plain": [
       "None"
      ]
     },
     "metadata": {},
     "output_type": "display_data"
    },
    {
     "data": {
      "text/html": [
       "<div>\n",
       "<style scoped>\n",
       "    .dataframe tbody tr th:only-of-type {\n",
       "        vertical-align: middle;\n",
       "    }\n",
       "\n",
       "    .dataframe tbody tr th {\n",
       "        vertical-align: top;\n",
       "    }\n",
       "\n",
       "    .dataframe thead th {\n",
       "        text-align: right;\n",
       "    }\n",
       "</style>\n",
       "<table border=\"1\" class=\"dataframe\">\n",
       "  <thead>\n",
       "    <tr style=\"text-align: right;\">\n",
       "      <th></th>\n",
       "      <th>count</th>\n",
       "      <th>unique</th>\n",
       "      <th>top</th>\n",
       "      <th>freq</th>\n",
       "    </tr>\n",
       "  </thead>\n",
       "  <tbody>\n",
       "    <tr>\n",
       "      <th>Name</th>\n",
       "      <td>50000</td>\n",
       "      <td>10128</td>\n",
       "      <td>Jessicad</td>\n",
       "      <td>24</td>\n",
       "    </tr>\n",
       "    <tr>\n",
       "      <th>Occupation</th>\n",
       "      <td>50000</td>\n",
       "      <td>15</td>\n",
       "      <td>Lawyer</td>\n",
       "      <td>3548</td>\n",
       "    </tr>\n",
       "    <tr>\n",
       "      <th>Type_of_Loan</th>\n",
       "      <td>50000</td>\n",
       "      <td>6261</td>\n",
       "      <td>No Data</td>\n",
       "      <td>5704</td>\n",
       "    </tr>\n",
       "    <tr>\n",
       "      <th>Credit_Mix</th>\n",
       "      <td>50000</td>\n",
       "      <td>3</td>\n",
       "      <td>Standard</td>\n",
       "      <td>22924</td>\n",
       "    </tr>\n",
       "    <tr>\n",
       "      <th>Payment_of_Min_Amount</th>\n",
       "      <td>50000</td>\n",
       "      <td>3</td>\n",
       "      <td>Yes</td>\n",
       "      <td>26158</td>\n",
       "    </tr>\n",
       "    <tr>\n",
       "      <th>Payment_Behaviour</th>\n",
       "      <td>50000</td>\n",
       "      <td>6</td>\n",
       "      <td>Low_spent_Small_value_payments</td>\n",
       "      <td>13949</td>\n",
       "    </tr>\n",
       "  </tbody>\n",
       "</table>\n",
       "</div>"
      ],
      "text/plain": [
       "                       count unique                             top   freq\n",
       "Name                   50000  10128                        Jessicad     24\n",
       "Occupation             50000     15                          Lawyer   3548\n",
       "Type_of_Loan           50000   6261                         No Data   5704\n",
       "Credit_Mix             50000      3                        Standard  22924\n",
       "Payment_of_Min_Amount  50000      3                             Yes  26158\n",
       "Payment_Behaviour      50000      6  Low_spent_Small_value_payments  13949"
      ]
     },
     "metadata": {},
     "output_type": "display_data"
    }
   ],
   "source": [
    "display(\n",
    "    df_train.describe(exclude=np.number).T, \n",
    "    print(), \n",
    "    df_test.describe(exclude=np.number).T\n",
    ")"
   ]
  },
  {
   "cell_type": "code",
   "execution_count": 9,
   "id": "d94b7cad",
   "metadata": {},
   "outputs": [
    {
     "data": {
      "text/html": [
       "<div>\n",
       "<style scoped>\n",
       "    .dataframe tbody tr th:only-of-type {\n",
       "        vertical-align: middle;\n",
       "    }\n",
       "\n",
       "    .dataframe tbody tr th {\n",
       "        vertical-align: top;\n",
       "    }\n",
       "\n",
       "    .dataframe thead th {\n",
       "        text-align: right;\n",
       "    }\n",
       "</style>\n",
       "<table border=\"1\" class=\"dataframe\">\n",
       "  <thead>\n",
       "    <tr style=\"text-align: right;\">\n",
       "      <th></th>\n",
       "      <th>ID</th>\n",
       "      <th>Customer_ID</th>\n",
       "      <th>Month</th>\n",
       "      <th>Name</th>\n",
       "      <th>Age</th>\n",
       "      <th>SSN</th>\n",
       "      <th>Occupation</th>\n",
       "      <th>Annual_Income</th>\n",
       "      <th>Monthly_Inhand_Salary</th>\n",
       "      <th>Num_Bank_Accounts</th>\n",
       "      <th>...</th>\n",
       "      <th>Credit_Mix</th>\n",
       "      <th>Outstanding_Debt</th>\n",
       "      <th>Credit_Utilization_Ratio</th>\n",
       "      <th>Credit_History_Age</th>\n",
       "      <th>Payment_of_Min_Amount</th>\n",
       "      <th>Total_EMI_per_month</th>\n",
       "      <th>Amount_invested_monthly</th>\n",
       "      <th>Payment_Behaviour</th>\n",
       "      <th>Monthly_Balance</th>\n",
       "      <th>Credit_Score</th>\n",
       "    </tr>\n",
       "  </thead>\n",
       "  <tbody>\n",
       "    <tr>\n",
       "      <th>0</th>\n",
       "      <td>5634</td>\n",
       "      <td>3392</td>\n",
       "      <td>1</td>\n",
       "      <td>Aaron Maashoh</td>\n",
       "      <td>23.0</td>\n",
       "      <td>821000265.0</td>\n",
       "      <td>Scientist</td>\n",
       "      <td>19114.12</td>\n",
       "      <td>1824.843333</td>\n",
       "      <td>3.0</td>\n",
       "      <td>...</td>\n",
       "      <td>Good</td>\n",
       "      <td>809.98</td>\n",
       "      <td>26.822620</td>\n",
       "      <td>265.0</td>\n",
       "      <td>No</td>\n",
       "      <td>49.574949</td>\n",
       "      <td>21.465380</td>\n",
       "      <td>High_spent_Small_value_payments</td>\n",
       "      <td>312.494089</td>\n",
       "      <td>Good</td>\n",
       "    </tr>\n",
       "    <tr>\n",
       "      <th>1</th>\n",
       "      <td>5635</td>\n",
       "      <td>3392</td>\n",
       "      <td>2</td>\n",
       "      <td>Aaron Maashoh</td>\n",
       "      <td>23.0</td>\n",
       "      <td>821000265.0</td>\n",
       "      <td>Scientist</td>\n",
       "      <td>19114.12</td>\n",
       "      <td>1824.843333</td>\n",
       "      <td>3.0</td>\n",
       "      <td>...</td>\n",
       "      <td>Good</td>\n",
       "      <td>809.98</td>\n",
       "      <td>31.944960</td>\n",
       "      <td>266.0</td>\n",
       "      <td>No</td>\n",
       "      <td>49.574949</td>\n",
       "      <td>21.465380</td>\n",
       "      <td>Low_spent_Large_value_payments</td>\n",
       "      <td>284.629162</td>\n",
       "      <td>Good</td>\n",
       "    </tr>\n",
       "    <tr>\n",
       "      <th>2</th>\n",
       "      <td>5636</td>\n",
       "      <td>3392</td>\n",
       "      <td>3</td>\n",
       "      <td>Aaron Maashoh</td>\n",
       "      <td>23.0</td>\n",
       "      <td>821000265.0</td>\n",
       "      <td>Scientist</td>\n",
       "      <td>19114.12</td>\n",
       "      <td>1824.843333</td>\n",
       "      <td>3.0</td>\n",
       "      <td>...</td>\n",
       "      <td>Good</td>\n",
       "      <td>809.98</td>\n",
       "      <td>28.609352</td>\n",
       "      <td>267.0</td>\n",
       "      <td>No</td>\n",
       "      <td>49.574949</td>\n",
       "      <td>21.465380</td>\n",
       "      <td>Low_spent_Medium_value_payments</td>\n",
       "      <td>331.209863</td>\n",
       "      <td>Good</td>\n",
       "    </tr>\n",
       "    <tr>\n",
       "      <th>3</th>\n",
       "      <td>5637</td>\n",
       "      <td>3392</td>\n",
       "      <td>4</td>\n",
       "      <td>Aaron Maashoh</td>\n",
       "      <td>23.0</td>\n",
       "      <td>821000265.0</td>\n",
       "      <td>Scientist</td>\n",
       "      <td>19114.12</td>\n",
       "      <td>1824.843333</td>\n",
       "      <td>3.0</td>\n",
       "      <td>...</td>\n",
       "      <td>Good</td>\n",
       "      <td>809.98</td>\n",
       "      <td>31.377862</td>\n",
       "      <td>268.0</td>\n",
       "      <td>No</td>\n",
       "      <td>49.574949</td>\n",
       "      <td>21.465380</td>\n",
       "      <td>Low_spent_Small_value_payments</td>\n",
       "      <td>223.451310</td>\n",
       "      <td>Good</td>\n",
       "    </tr>\n",
       "    <tr>\n",
       "      <th>4</th>\n",
       "      <td>5638</td>\n",
       "      <td>3392</td>\n",
       "      <td>5</td>\n",
       "      <td>Aaron Maashoh</td>\n",
       "      <td>23.0</td>\n",
       "      <td>821000265.0</td>\n",
       "      <td>Scientist</td>\n",
       "      <td>19114.12</td>\n",
       "      <td>1824.843333</td>\n",
       "      <td>3.0</td>\n",
       "      <td>...</td>\n",
       "      <td>Good</td>\n",
       "      <td>809.98</td>\n",
       "      <td>24.797347</td>\n",
       "      <td>269.0</td>\n",
       "      <td>No</td>\n",
       "      <td>49.574949</td>\n",
       "      <td>21.465380</td>\n",
       "      <td>High_spent_Medium_value_payments</td>\n",
       "      <td>341.489231</td>\n",
       "      <td>Good</td>\n",
       "    </tr>\n",
       "    <tr>\n",
       "      <th>...</th>\n",
       "      <td>...</td>\n",
       "      <td>...</td>\n",
       "      <td>...</td>\n",
       "      <td>...</td>\n",
       "      <td>...</td>\n",
       "      <td>...</td>\n",
       "      <td>...</td>\n",
       "      <td>...</td>\n",
       "      <td>...</td>\n",
       "      <td>...</td>\n",
       "      <td>...</td>\n",
       "      <td>...</td>\n",
       "      <td>...</td>\n",
       "      <td>...</td>\n",
       "      <td>...</td>\n",
       "      <td>...</td>\n",
       "      <td>...</td>\n",
       "      <td>...</td>\n",
       "      <td>...</td>\n",
       "      <td>...</td>\n",
       "      <td>...</td>\n",
       "    </tr>\n",
       "    <tr>\n",
       "      <th>149995</th>\n",
       "      <td>155621</td>\n",
       "      <td>34304</td>\n",
       "      <td>12</td>\n",
       "      <td>Sarah McBridec</td>\n",
       "      <td>28.0</td>\n",
       "      <td>31350942.0</td>\n",
       "      <td>Architect</td>\n",
       "      <td>20002.88</td>\n",
       "      <td>1929.906667</td>\n",
       "      <td>10.0</td>\n",
       "      <td>...</td>\n",
       "      <td>Bad</td>\n",
       "      <td>3571.70</td>\n",
       "      <td>34.780553</td>\n",
       "      <td>78.0</td>\n",
       "      <td>Yes</td>\n",
       "      <td>60.964772</td>\n",
       "      <td>34.662906</td>\n",
       "      <td>Low_spent_Small_value_payments</td>\n",
       "      <td>275.539570</td>\n",
       "      <td>NaN</td>\n",
       "    </tr>\n",
       "    <tr>\n",
       "      <th>149996</th>\n",
       "      <td>155630</td>\n",
       "      <td>37932</td>\n",
       "      <td>9</td>\n",
       "      <td>Nicks</td>\n",
       "      <td>25.0</td>\n",
       "      <td>78735990.0</td>\n",
       "      <td>Mechanic</td>\n",
       "      <td>39628.99</td>\n",
       "      <td>3359.415833</td>\n",
       "      <td>4.0</td>\n",
       "      <td>...</td>\n",
       "      <td>Good</td>\n",
       "      <td>502.38</td>\n",
       "      <td>27.758522</td>\n",
       "      <td>383.0</td>\n",
       "      <td>NM</td>\n",
       "      <td>35.104023</td>\n",
       "      <td>24.028477</td>\n",
       "      <td>Low_spent_Small_value_payments</td>\n",
       "      <td>409.394562</td>\n",
       "      <td>NaN</td>\n",
       "    </tr>\n",
       "    <tr>\n",
       "      <th>149997</th>\n",
       "      <td>155631</td>\n",
       "      <td>37932</td>\n",
       "      <td>10</td>\n",
       "      <td>Nicks</td>\n",
       "      <td>25.0</td>\n",
       "      <td>78735990.0</td>\n",
       "      <td>Mechanic</td>\n",
       "      <td>39628.99</td>\n",
       "      <td>3359.415833</td>\n",
       "      <td>4.0</td>\n",
       "      <td>...</td>\n",
       "      <td>Good</td>\n",
       "      <td>502.38</td>\n",
       "      <td>36.858542</td>\n",
       "      <td>384.0</td>\n",
       "      <td>No</td>\n",
       "      <td>35.104023</td>\n",
       "      <td>24.028477</td>\n",
       "      <td>Low_spent_Large_value_payments</td>\n",
       "      <td>349.726332</td>\n",
       "      <td>NaN</td>\n",
       "    </tr>\n",
       "    <tr>\n",
       "      <th>149998</th>\n",
       "      <td>155632</td>\n",
       "      <td>37932</td>\n",
       "      <td>11</td>\n",
       "      <td>Nicks</td>\n",
       "      <td>25.0</td>\n",
       "      <td>78735990.0</td>\n",
       "      <td>Mechanic</td>\n",
       "      <td>39628.99</td>\n",
       "      <td>3359.415833</td>\n",
       "      <td>4.0</td>\n",
       "      <td>...</td>\n",
       "      <td>Good</td>\n",
       "      <td>502.38</td>\n",
       "      <td>39.139840</td>\n",
       "      <td>385.0</td>\n",
       "      <td>No</td>\n",
       "      <td>35.104023</td>\n",
       "      <td>24.028477</td>\n",
       "      <td>High_spent_Small_value_payments</td>\n",
       "      <td>463.238981</td>\n",
       "      <td>NaN</td>\n",
       "    </tr>\n",
       "    <tr>\n",
       "      <th>149999</th>\n",
       "      <td>155633</td>\n",
       "      <td>37932</td>\n",
       "      <td>12</td>\n",
       "      <td>Nicks</td>\n",
       "      <td>25.0</td>\n",
       "      <td>78735990.0</td>\n",
       "      <td>Mechanic</td>\n",
       "      <td>39628.99</td>\n",
       "      <td>3359.415833</td>\n",
       "      <td>4.0</td>\n",
       "      <td>...</td>\n",
       "      <td>Good</td>\n",
       "      <td>502.38</td>\n",
       "      <td>34.108530</td>\n",
       "      <td>386.0</td>\n",
       "      <td>No</td>\n",
       "      <td>35.104023</td>\n",
       "      <td>24.028477</td>\n",
       "      <td>Low_spent_Medium_value_payments</td>\n",
       "      <td>360.379683</td>\n",
       "      <td>NaN</td>\n",
       "    </tr>\n",
       "  </tbody>\n",
       "</table>\n",
       "<p>150000 rows × 28 columns</p>\n",
       "</div>"
      ],
      "text/plain": [
       "            ID  Customer_ID  Month            Name   Age          SSN  \\\n",
       "0         5634         3392      1   Aaron Maashoh  23.0  821000265.0   \n",
       "1         5635         3392      2   Aaron Maashoh  23.0  821000265.0   \n",
       "2         5636         3392      3   Aaron Maashoh  23.0  821000265.0   \n",
       "3         5637         3392      4   Aaron Maashoh  23.0  821000265.0   \n",
       "4         5638         3392      5   Aaron Maashoh  23.0  821000265.0   \n",
       "...        ...          ...    ...             ...   ...          ...   \n",
       "149995  155621        34304     12  Sarah McBridec  28.0   31350942.0   \n",
       "149996  155630        37932      9           Nicks  25.0   78735990.0   \n",
       "149997  155631        37932     10           Nicks  25.0   78735990.0   \n",
       "149998  155632        37932     11           Nicks  25.0   78735990.0   \n",
       "149999  155633        37932     12           Nicks  25.0   78735990.0   \n",
       "\n",
       "       Occupation  Annual_Income  Monthly_Inhand_Salary  Num_Bank_Accounts  \\\n",
       "0       Scientist       19114.12            1824.843333                3.0   \n",
       "1       Scientist       19114.12            1824.843333                3.0   \n",
       "2       Scientist       19114.12            1824.843333                3.0   \n",
       "3       Scientist       19114.12            1824.843333                3.0   \n",
       "4       Scientist       19114.12            1824.843333                3.0   \n",
       "...           ...            ...                    ...                ...   \n",
       "149995  Architect       20002.88            1929.906667               10.0   \n",
       "149996   Mechanic       39628.99            3359.415833                4.0   \n",
       "149997   Mechanic       39628.99            3359.415833                4.0   \n",
       "149998   Mechanic       39628.99            3359.415833                4.0   \n",
       "149999   Mechanic       39628.99            3359.415833                4.0   \n",
       "\n",
       "        ...  Credit_Mix  Outstanding_Debt  Credit_Utilization_Ratio  \\\n",
       "0       ...        Good            809.98                 26.822620   \n",
       "1       ...        Good            809.98                 31.944960   \n",
       "2       ...        Good            809.98                 28.609352   \n",
       "3       ...        Good            809.98                 31.377862   \n",
       "4       ...        Good            809.98                 24.797347   \n",
       "...     ...         ...               ...                       ...   \n",
       "149995  ...         Bad           3571.70                 34.780553   \n",
       "149996  ...        Good            502.38                 27.758522   \n",
       "149997  ...        Good            502.38                 36.858542   \n",
       "149998  ...        Good            502.38                 39.139840   \n",
       "149999  ...        Good            502.38                 34.108530   \n",
       "\n",
       "       Credit_History_Age  Payment_of_Min_Amount  Total_EMI_per_month  \\\n",
       "0                   265.0                     No            49.574949   \n",
       "1                   266.0                     No            49.574949   \n",
       "2                   267.0                     No            49.574949   \n",
       "3                   268.0                     No            49.574949   \n",
       "4                   269.0                     No            49.574949   \n",
       "...                   ...                    ...                  ...   \n",
       "149995               78.0                    Yes            60.964772   \n",
       "149996              383.0                     NM            35.104023   \n",
       "149997              384.0                     No            35.104023   \n",
       "149998              385.0                     No            35.104023   \n",
       "149999              386.0                     No            35.104023   \n",
       "\n",
       "        Amount_invested_monthly                 Payment_Behaviour  \\\n",
       "0                     21.465380   High_spent_Small_value_payments   \n",
       "1                     21.465380    Low_spent_Large_value_payments   \n",
       "2                     21.465380   Low_spent_Medium_value_payments   \n",
       "3                     21.465380    Low_spent_Small_value_payments   \n",
       "4                     21.465380  High_spent_Medium_value_payments   \n",
       "...                         ...                               ...   \n",
       "149995                34.662906    Low_spent_Small_value_payments   \n",
       "149996                24.028477    Low_spent_Small_value_payments   \n",
       "149997                24.028477    Low_spent_Large_value_payments   \n",
       "149998                24.028477   High_spent_Small_value_payments   \n",
       "149999                24.028477   Low_spent_Medium_value_payments   \n",
       "\n",
       "       Monthly_Balance  Credit_Score  \n",
       "0           312.494089          Good  \n",
       "1           284.629162          Good  \n",
       "2           331.209863          Good  \n",
       "3           223.451310          Good  \n",
       "4           341.489231          Good  \n",
       "...                ...           ...  \n",
       "149995      275.539570           NaN  \n",
       "149996      409.394562           NaN  \n",
       "149997      349.726332           NaN  \n",
       "149998      463.238981           NaN  \n",
       "149999      360.379683           NaN  \n",
       "\n",
       "[150000 rows x 28 columns]"
      ]
     },
     "execution_count": 9,
     "metadata": {},
     "output_type": "execute_result"
    }
   ],
   "source": [
    "df = pd.concat([df_train, df_test], ignore_index=True)\n",
    "df = df.applymap(lambda x: x if x is np.NaN or not isinstance(x, str) else str(x).strip('_ ,\"')\n",
    "                      ).replace(' and', '').replace(['', 'nan', '!@9#%8', '#F%$D@*&8'], np.NaN)\n",
    "df"
   ]
  },
  {
   "cell_type": "code",
   "execution_count": 10,
   "id": "715b94df",
   "metadata": {},
   "outputs": [
    {
     "data": {
      "text/plain": [
       "ID                              0\n",
       "Customer_ID                     0\n",
       "Month                           0\n",
       "Name                            0\n",
       "Age                             0\n",
       "SSN                             0\n",
       "Occupation                      0\n",
       "Annual_Income                   0\n",
       "Monthly_Inhand_Salary           0\n",
       "Num_Bank_Accounts               0\n",
       "Num_Credit_Card                 0\n",
       "Interest_Rate                   0\n",
       "Num_of_Loan                     0\n",
       "Type_of_Loan                    0\n",
       "Delay_from_due_date             0\n",
       "Num_of_Delayed_Payment          0\n",
       "Changed_Credit_Limit            0\n",
       "Num_Credit_Inquiries            0\n",
       "Credit_Mix                      0\n",
       "Outstanding_Debt                0\n",
       "Credit_Utilization_Ratio        0\n",
       "Credit_History_Age              0\n",
       "Payment_of_Min_Amount           0\n",
       "Total_EMI_per_month             0\n",
       "Amount_invested_monthly         0\n",
       "Payment_Behaviour               0\n",
       "Monthly_Balance                 0\n",
       "Credit_Score                50000\n",
       "dtype: int64"
      ]
     },
     "execution_count": 10,
     "metadata": {},
     "output_type": "execute_result"
    }
   ],
   "source": [
    "df.isna().sum()"
   ]
  },
  {
   "cell_type": "markdown",
   "id": "2b4f488e",
   "metadata": {},
   "source": [
    "No hay datos nulos"
   ]
  },
  {
   "cell_type": "markdown",
   "id": "b7ff93d8",
   "metadata": {},
   "source": [
    "## 📂 Preprocesamiento de Datos"
   ]
  },
  {
   "cell_type": "code",
   "execution_count": 11,
   "id": "36316a28",
   "metadata": {
    "scrolled": true
   },
   "outputs": [
    {
     "name": "stdout",
     "output_type": "stream",
     "text": [
      "<class 'pandas.core.frame.DataFrame'>\n",
      "RangeIndex: 150000 entries, 0 to 149999\n",
      "Data columns (total 7 columns):\n",
      " #   Column                 Non-Null Count   Dtype \n",
      "---  ------                 --------------   ----- \n",
      " 0   Name                   150000 non-null  object\n",
      " 1   Occupation             150000 non-null  object\n",
      " 2   Type_of_Loan           150000 non-null  object\n",
      " 3   Credit_Mix             150000 non-null  object\n",
      " 4   Payment_of_Min_Amount  150000 non-null  object\n",
      " 5   Payment_Behaviour      150000 non-null  object\n",
      " 6   Credit_Score           100000 non-null  object\n",
      "dtypes: object(7)\n",
      "memory usage: 8.0+ MB\n"
     ]
    }
   ],
   "source": [
    "df.select_dtypes('O').info()"
   ]
  },
  {
   "cell_type": "code",
   "execution_count": 12,
   "id": "479e35dd",
   "metadata": {},
   "outputs": [],
   "source": [
    "df.drop(columns=['ID', 'Month', 'Name', 'SSN', 'Customer_ID'], inplace=True)"
   ]
  },
  {
   "cell_type": "code",
   "execution_count": 13,
   "id": "576f36ad",
   "metadata": {},
   "outputs": [
    {
     "data": {
      "text/plain": [
       "(100000, 23)"
      ]
     },
     "execution_count": 13,
     "metadata": {},
     "output_type": "execute_result"
    }
   ],
   "source": [
    "# Drop the Rows we can not use in model\n",
    "df = df[df['Credit_Score'].notna()]\n",
    "df.shape"
   ]
  },
  {
   "cell_type": "code",
   "execution_count": 14,
   "id": "5686d10a",
   "metadata": {},
   "outputs": [
    {
     "data": {
      "image/png": "[encoded data removed]",
      "text/plain": [
       "<Figure size 842.4x595.44 with 1 Axes>"
      ]
     },
     "metadata": {},
     "output_type": "display_data"
    }
   ],
   "source": [
    "# Distribución de la variable a predecir\n",
    "sns.set(rc={'figure.figsize':(11.7,8.27)})\n",
    "sns.countplot(x=\"Credit_Score\", data=df)\n",
    "plt.title(\"Credit Score\")\n",
    "plt.show()"
   ]
  },
  {
   "cell_type": "code",
   "execution_count": 15,
   "id": "14606d6a",
   "metadata": {},
   "outputs": [
    {
     "data": {
      "text/plain": [
       "<AxesSubplot:>"
      ]
     },
     "execution_count": 15,
     "metadata": {},
     "output_type": "execute_result"
    },
    {
     "data": {
      "image/png": "[encoded data removed]",
      "text/plain": [
       "<Figure size 842.4x595.44 with 2 Axes>"
      ]
     },
     "metadata": {},
     "output_type": "display_data"
    }
   ],
   "source": [
    "#Matriz de correlación para inspeccionar posibles variables predictoras relacionadas entre sí\n",
    "correlation_matrix = df.corr().round(3)\n",
    "sns.heatmap(data=correlation_matrix, annot=True)"
   ]
  },
  {
   "cell_type": "markdown",
   "id": "e3512b61",
   "metadata": {},
   "source": [
    "## ♎️ Balanceo de Datos"
   ]
  },
  {
   "cell_type": "code",
   "execution_count": 16,
   "id": "574b298a",
   "metadata": {},
   "outputs": [],
   "source": [
    "#Balanceamos los datos\n",
    "undersample = RandomUnderSampler(sampling_strategy='majority')\n",
    "df, credit_score = undersample.fit_resample(df, df[\"Credit_Score\"])"
   ]
  },
  {
   "cell_type": "code",
   "execution_count": 1,
   "id": "8eefdcbe",
   "metadata": {
    "scrolled": false
   },
   "outputs": [
    {
     "ename": "NameError",
     "evalue": "name 'sns' is not defined",
     "output_type": "error",
     "traceback": [
      "\u001b[0;31m---------------------------------------------------------------------------\u001b[0m",
      "\u001b[0;31mNameError\u001b[0m                                 Traceback (most recent call last)",
      "Input \u001b[0;32mIn [1]\u001b[0m, in \u001b[0;36m<cell line: 2>\u001b[0;34m()\u001b[0m\n\u001b[1;32m      1\u001b[0m \u001b[38;5;66;03m# Distribución de la variable a predecir\u001b[39;00m\n\u001b[0;32m----> 2\u001b[0m \u001b[43msns\u001b[49m\u001b[38;5;241m.\u001b[39mset(rc\u001b[38;5;241m=\u001b[39m{\u001b[38;5;124m'\u001b[39m\u001b[38;5;124mfigure.figsize\u001b[39m\u001b[38;5;124m'\u001b[39m:(\u001b[38;5;241m11.7\u001b[39m,\u001b[38;5;241m8.27\u001b[39m)})\n\u001b[1;32m      3\u001b[0m sns\u001b[38;5;241m.\u001b[39mcountplot(x\u001b[38;5;241m=\u001b[39m\u001b[38;5;124m\"\u001b[39m\u001b[38;5;124mCredit_Score\u001b[39m\u001b[38;5;124m\"\u001b[39m, data\u001b[38;5;241m=\u001b[39mdf)\n\u001b[1;32m      4\u001b[0m plt\u001b[38;5;241m.\u001b[39mtitle(\u001b[38;5;124m\"\u001b[39m\u001b[38;5;124mCredit_Score\u001b[39m\u001b[38;5;124m\"\u001b[39m)\n",
      "\u001b[0;31mNameError\u001b[0m: name 'sns' is not defined"
     ]
    }
   ],
   "source": [
    "# Distribución de la variable a predecir\n",
    "sns.set(rc={'figure.figsize':(11.7,8.27)})\n",
    "sns.countplot(x=\"Credit_Score\", data=df)\n",
    "plt.title(\"Credit_Score\")\n",
    "plt.show()"
   ]
  },
  {
   "cell_type": "markdown",
   "id": "95de6729",
   "metadata": {},
   "source": [
    "### OneHotEncoder and LabelEncoder"
   ]
  },
  {
   "cell_type": "code",
   "execution_count": 2,
   "id": "44bbed9e",
   "metadata": {},
   "outputs": [
    {
     "ename": "NameError",
     "evalue": "name 'df' is not defined",
     "output_type": "error",
     "traceback": [
      "\u001b[0;31m---------------------------------------------------------------------------\u001b[0m",
      "\u001b[0;31mNameError\u001b[0m                                 Traceback (most recent call last)",
      "Input \u001b[0;32mIn [2]\u001b[0m, in \u001b[0;36m<cell line: 1>\u001b[0;34m()\u001b[0m\n\u001b[0;32m----> 1\u001b[0m df1 \u001b[38;5;241m=\u001b[39m \u001b[43mdf\u001b[49m\u001b[38;5;241m.\u001b[39mcopy()\n",
      "\u001b[0;31mNameError\u001b[0m: name 'df' is not defined"
     ]
    }
   ],
   "source": [
    "df1 = df.copy()"
   ]
  },
  {
   "cell_type": "code",
   "execution_count": 3,
   "id": "4b0443d2",
   "metadata": {},
   "outputs": [
    {
     "ename": "NameError",
     "evalue": "name 'df' is not defined",
     "output_type": "error",
     "traceback": [
      "\u001b[0;31m---------------------------------------------------------------------------\u001b[0m",
      "\u001b[0;31mNameError\u001b[0m                                 Traceback (most recent call last)",
      "Input \u001b[0;32mIn [3]\u001b[0m, in \u001b[0;36m<cell line: 1>\u001b[0;34m()\u001b[0m\n\u001b[0;32m----> 1\u001b[0m \u001b[43mdf\u001b[49m\u001b[38;5;241m.\u001b[39minfo()\n",
      "\u001b[0;31mNameError\u001b[0m: name 'df' is not defined"
     ]
    }
   ],
   "source": [
    "df.info()"
   ]
  },
  {
   "cell_type": "code",
   "execution_count": 4,
   "id": "d0f7177d",
   "metadata": {},
   "outputs": [
    {
     "ename": "NameError",
     "evalue": "name 'df' is not defined",
     "output_type": "error",
     "traceback": [
      "\u001b[0;31m---------------------------------------------------------------------------\u001b[0m",
      "\u001b[0;31mNameError\u001b[0m                                 Traceback (most recent call last)",
      "Input \u001b[0;32mIn [4]\u001b[0m, in \u001b[0;36m<cell line: 1>\u001b[0;34m()\u001b[0m\n\u001b[0;32m----> 1\u001b[0m \u001b[43mdf\u001b[49m\u001b[38;5;241m.\u001b[39mdescribe(include\u001b[38;5;241m=\u001b[39m\u001b[38;5;124m'\u001b[39m\u001b[38;5;124mall\u001b[39m\u001b[38;5;124m'\u001b[39m)\u001b[38;5;241m.\u001b[39mT\n",
      "\u001b[0;31mNameError\u001b[0m: name 'df' is not defined"
     ]
    }
   ],
   "source": [
    "df.describe(include='all').T\n"
   ]
  },
  {
   "cell_type": "markdown",
   "id": "5ca1a931",
   "metadata": {},
   "source": [
    "### Train | Test Split"
   ]
  },
  {
   "cell_type": "code",
   "execution_count": 21,
   "id": "0bcf398d",
   "metadata": {},
   "outputs": [
    {
     "data": {
      "text/plain": [
       "((51723, 22), (12931, 22), (51723,))"
      ]
     },
     "execution_count": 21,
     "metadata": {},
     "output_type": "execute_result"
    }
   ],
   "source": [
    "X = df.drop(columns=\"Credit_Score\")\n",
    "y = df['Credit_Score']\n",
    "\n",
    "X_train, X_test, y_train, y_test = train_test_split(X, y, test_size=0.2, random_state=random_state)\n",
    "\n",
    "X_train.shape, X_test.shape, y_train.shape, "
   ]
  },
  {
   "cell_type": "markdown",
   "id": "36741afd",
   "metadata": {},
   "source": [
    "### Dummy Operation"
   ]
  },
  {
   "cell_type": "code",
   "execution_count": 22,
   "id": "f23647fb",
   "metadata": {},
   "outputs": [
    {
     "data": {
      "text/plain": [
       "((51723, 49), (12931, 49))"
      ]
     },
     "execution_count": 22,
     "metadata": {},
     "output_type": "execute_result"
    }
   ],
   "source": [
    "X_train = X_train.join(X_train[\"Type_of_Loan\"].str.get_dummies(sep = \",\").add_prefix(\"tol_\"))\n",
    "X_test = X_test.join(X_test[\"Type_of_Loan\"].str.get_dummies(sep = \",\").add_prefix(\"tol_\"))\n",
    "X_test = X_test.reindex(columns = X_train.columns, fill_value=0) # \"0\"\n",
    "\n",
    "X_train.drop(columns=[\"Type_of_Loan\"], inplace = True)\n",
    "X_test.drop(columns=[\"Type_of_Loan\"], inplace = True)\n",
    "\n",
    "X_train.shape, X_test.shape"
   ]
  },
  {
   "cell_type": "markdown",
   "id": "7c68a740",
   "metadata": {},
   "source": [
    "### OneHotEncoder and LabelEncoder\n"
   ]
  },
  {
   "cell_type": "code",
   "execution_count": 23,
   "id": "0ee94d9f",
   "metadata": {},
   "outputs": [
    {
     "data": {
      "text/plain": [
       "((51723, 72), (12931, 72))"
      ]
     },
     "execution_count": 23,
     "metadata": {},
     "output_type": "execute_result"
    }
   ],
   "source": [
    "cat = X_train.select_dtypes(exclude=\"number\").columns.to_list()    \n",
    "enc = OneHotEncoder(handle_unknown=\"ignore\", sparse=False)\n",
    "\n",
    "X_train_cat = pd.DataFrame(\n",
    "    enc.fit_transform(X_train[cat]), index = X_train.index, \n",
    "    columns = enc.get_feature_names_out(cat)\n",
    ")    \n",
    "X_test_cat  = pd.DataFrame(\n",
    "    enc.transform(X_test[cat]), index = X_test.index, \n",
    "    columns = enc.get_feature_names_out(cat)\n",
    ")    \n",
    "X_train_enc = X_train_cat.join(X_train.select_dtypes(\"number\"))\n",
    "X_test_enc = X_test_cat.join(X_test.select_dtypes(\"number\"))\n",
    "\n",
    "X_train_enc.shape, X_test_enc.shape\n"
   ]
  },
  {
   "cell_type": "markdown",
   "id": "f373c2e4",
   "metadata": {},
   "source": [
    "### Scale Data"
   ]
  },
  {
   "cell_type": "code",
   "execution_count": 24,
   "id": "6005d632",
   "metadata": {},
   "outputs": [],
   "source": [
    "scaler = MinMaxScaler()\n",
    "\n",
    "X_train_scaled = pd.DataFrame(scaler.fit_transform(X_train_enc), columns=X_train_enc.columns)\n",
    "X_test_scaled  = pd.DataFrame(scaler.transform(X_test_enc), columns=X_test_enc.columns)"
   ]
  },
  {
   "cell_type": "code",
   "execution_count": 25,
   "id": "2134abcd",
   "metadata": {},
   "outputs": [
    {
     "name": "stdout",
     "output_type": "stream",
     "text": [
      "<class 'pandas.core.frame.DataFrame'>\n",
      "Int64Index: 51723 entries, 48986 to 56422\n",
      "Data columns (total 49 columns):\n",
      " #   Column                            Non-Null Count  Dtype  \n",
      "---  ------                            --------------  -----  \n",
      " 0   Age                               51723 non-null  float64\n",
      " 1   Occupation                        51723 non-null  object \n",
      " 2   Annual_Income                     51723 non-null  float64\n",
      " 3   Monthly_Inhand_Salary             51723 non-null  float64\n",
      " 4   Num_Bank_Accounts                 51723 non-null  float64\n",
      " 5   Num_Credit_Card                   51723 non-null  float64\n",
      " 6   Interest_Rate                     51723 non-null  float64\n",
      " 7   Num_of_Loan                       51723 non-null  float64\n",
      " 8   Delay_from_due_date               51723 non-null  float64\n",
      " 9   Num_of_Delayed_Payment            51723 non-null  float64\n",
      " 10  Changed_Credit_Limit              51723 non-null  float64\n",
      " 11  Num_Credit_Inquiries              51723 non-null  float64\n",
      " 12  Credit_Mix                        51723 non-null  object \n",
      " 13  Outstanding_Debt                  51723 non-null  float64\n",
      " 14  Credit_Utilization_Ratio          51723 non-null  float64\n",
      " 15  Credit_History_Age                51723 non-null  float64\n",
      " 16  Payment_of_Min_Amount             51723 non-null  object \n",
      " 17  Total_EMI_per_month               51723 non-null  float64\n",
      " 18  Amount_invested_monthly           51723 non-null  float64\n",
      " 19  Payment_Behaviour                 51723 non-null  object \n",
      " 20  Monthly_Balance                   51723 non-null  float64\n",
      " 21  tol_ Auto Loan                    51723 non-null  int64  \n",
      " 22  tol_ Credit-Builder Loan          51723 non-null  int64  \n",
      " 23  tol_ Debt Consolidation Loan      51723 non-null  int64  \n",
      " 24  tol_ Home Equity Loan             51723 non-null  int64  \n",
      " 25  tol_ Mortgage Loan                51723 non-null  int64  \n",
      " 26  tol_ Not Specified                51723 non-null  int64  \n",
      " 27  tol_ Payday Loan                  51723 non-null  int64  \n",
      " 28  tol_ Personal Loan                51723 non-null  int64  \n",
      " 29  tol_ Student Loan                 51723 non-null  int64  \n",
      " 30  tol_ and Auto Loan                51723 non-null  int64  \n",
      " 31  tol_ and Credit-Builder Loan      51723 non-null  int64  \n",
      " 32  tol_ and Debt Consolidation Loan  51723 non-null  int64  \n",
      " 33  tol_ and Home Equity Loan         51723 non-null  int64  \n",
      " 34  tol_ and Mortgage Loan            51723 non-null  int64  \n",
      " 35  tol_ and Not Specified            51723 non-null  int64  \n",
      " 36  tol_ and Payday Loan              51723 non-null  int64  \n",
      " 37  tol_ and Personal Loan            51723 non-null  int64  \n",
      " 38  tol_ and Student Loan             51723 non-null  int64  \n",
      " 39  tol_Auto Loan                     51723 non-null  int64  \n",
      " 40  tol_Credit-Builder Loan           51723 non-null  int64  \n",
      " 41  tol_Debt Consolidation Loan       51723 non-null  int64  \n",
      " 42  tol_Home Equity Loan              51723 non-null  int64  \n",
      " 43  tol_Mortgage Loan                 51723 non-null  int64  \n",
      " 44  tol_No Data                       51723 non-null  int64  \n",
      " 45  tol_Not Specified                 51723 non-null  int64  \n",
      " 46  tol_Payday Loan                   51723 non-null  int64  \n",
      " 47  tol_Personal Loan                 51723 non-null  int64  \n",
      " 48  tol_Student Loan                  51723 non-null  int64  \n",
      "dtypes: float64(17), int64(28), object(4)\n",
      "memory usage: 21.7+ MB\n"
     ]
    }
   ],
   "source": [
    "X_train.info()"
   ]
  },
  {
   "cell_type": "markdown",
   "id": "c080f549",
   "metadata": {},
   "source": [
    "### Logistica de Regresión"
   ]
  },
  {
   "cell_type": "code",
   "execution_count": 26,
   "id": "1f8d9dbc",
   "metadata": {},
   "outputs": [
    {
     "name": "stdout",
     "output_type": "stream",
     "text": [
      "              precision    recall  f1-score   support\n",
      "\n",
      "        Good       0.67      0.81      0.73     14304\n",
      "        Poor       0.79      0.77      0.78     23147\n",
      "    Standard       0.66      0.55      0.60     14272\n",
      "\n",
      "    accuracy                           0.72     51723\n",
      "   macro avg       0.71      0.71      0.70     51723\n",
      "weighted avg       0.72      0.72      0.72     51723\n",
      "\n",
      "----------------------------------------------------------\n",
      "              precision    recall  f1-score   support\n",
      "\n",
      "        Good       0.66      0.81      0.73      3524\n",
      "        Poor       0.80      0.77      0.78      5851\n",
      "    Standard       0.65      0.54      0.59      3556\n",
      "\n",
      "    accuracy                           0.72     12931\n",
      "   macro avg       0.70      0.71      0.70     12931\n",
      "weighted avg       0.72      0.72      0.72     12931\n",
      "\n"
     ]
    }
   ],
   "source": [
    "lr = LogisticRegression().fit(X_train_scaled, y_train)\n",
    "y_pred_train = lr.predict(X_train_scaled)\n",
    "y_pred_test  = lr.predict(X_test_scaled)\n",
    "\n",
    "print(classification_report(y_train, y_pred_train))\n",
    "print('----------------------------------------------------------')\n",
    "print(classification_report(y_test, y_pred_test))"
   ]
  },
  {
   "cell_type": "markdown",
   "id": "4b1f8e25",
   "metadata": {},
   "source": [
    "#### With Best Parameters (GridsearchCV)"
   ]
  },
  {
   "cell_type": "code",
   "execution_count": 27,
   "id": "3132390a",
   "metadata": {},
   "outputs": [],
   "source": [
    "model = LogisticRegression(    \n",
    "    class_weight = \"balanced\",\n",
    "    max_iter=10000,\n",
    "    random_state=random_state\n",
    ")\n",
    "param_grid = {\n",
    "    \"penalty\" : ['l1'],\n",
    "    \"C\" : [0.1],\n",
    "    \"solver\" : ['saga'], # 'liblinear', \n",
    "}\n",
    "# Identify people with low credit scores\n",
    "grid_model_log = GridSearchCV(\n",
    "    estimator=model,\n",
    "    param_grid = param_grid, \n",
    "    error_score=\"raise\",\n",
    "    n_jobs=-1,\n",
    "    cv=5\n",
    ")\n"
   ]
  },
  {
   "cell_type": "code",
   "execution_count": 28,
   "id": "8065292e",
   "metadata": {},
   "outputs": [
    {
     "name": "stdout",
     "output_type": "stream",
     "text": [
      "CPU times: user 1.56 s, sys: 146 ms, total: 1.71 s\n",
      "Wall time: 6.07 s\n"
     ]
    }
   ],
   "source": [
    "%%time\n",
    "grid_model_log.fit(X_train_scaled, y_train)\n",
    "# Suppressing a warning \n",
    "warnings.filterwarnings(\"ignore\") \n",
    "warnings.warn(\"this will not show\")"
   ]
  },
  {
   "cell_type": "code",
   "execution_count": 29,
   "id": "f289e8fa",
   "metadata": {},
   "outputs": [
    {
     "data": {
      "text/plain": [
       "{'C': 0.1, 'penalty': 'l1', 'solver': 'saga'}"
      ]
     },
     "execution_count": 29,
     "metadata": {},
     "output_type": "execute_result"
    }
   ],
   "source": [
    "grid_model_log.best_params_"
   ]
  },
  {
   "cell_type": "code",
   "execution_count": 30,
   "id": "77a2c45b",
   "metadata": {},
   "outputs": [
    {
     "data": {
      "text/plain": [
       "0.7041548274401664"
      ]
     },
     "execution_count": 30,
     "metadata": {},
     "output_type": "execute_result"
    }
   ],
   "source": [
    "grid_model_log.best_score_"
   ]
  },
  {
   "cell_type": "code",
   "execution_count": 31,
   "id": "2a6c07a4",
   "metadata": {},
   "outputs": [
    {
     "name": "stdout",
     "output_type": "stream",
     "text": [
      "              precision    recall  f1-score   support\n",
      "\n",
      "        Good       0.65      0.84      0.73     14304\n",
      "        Poor       0.83      0.69      0.75     23147\n",
      "    Standard       0.61      0.60      0.61     14272\n",
      "\n",
      "    accuracy                           0.71     51723\n",
      "   macro avg       0.70      0.71      0.70     51723\n",
      "weighted avg       0.72      0.71      0.71     51723\n",
      "\n",
      "----------------------------------------------------------\n",
      "              precision    recall  f1-score   support\n",
      "\n",
      "        Good       0.64      0.83      0.73      3524\n",
      "        Poor       0.84      0.69      0.76      5851\n",
      "    Standard       0.60      0.60      0.60      3556\n",
      "\n",
      "    accuracy                           0.70     12931\n",
      "   macro avg       0.69      0.71      0.69     12931\n",
      "weighted avg       0.72      0.70      0.71     12931\n",
      "\n"
     ]
    }
   ],
   "source": [
    "y_pred_train = grid_model_log.predict(X_train_scaled)\n",
    "y_pred_test  = grid_model_log.predict(X_test_scaled)\n",
    "\n",
    "print(classification_report(y_train, y_pred_train))\n",
    "print('----------------------------------------------------------')\n",
    "print(classification_report(y_test, y_pred_test))"
   ]
  },
  {
   "cell_type": "markdown",
   "id": "0f1909d5",
   "metadata": {},
   "source": [
    "### Implementando Random Forest Classifier"
   ]
  },
  {
   "cell_type": "markdown",
   "id": "0e42ed38",
   "metadata": {},
   "source": [
    "#### OrdinalEncoder"
   ]
  },
  {
   "cell_type": "code",
   "execution_count": 32,
   "id": "95399744",
   "metadata": {},
   "outputs": [
    {
     "data": {
      "text/plain": [
       "((51723, 49), (12931, 49))"
      ]
     },
     "execution_count": 32,
     "metadata": {},
     "output_type": "execute_result"
    }
   ],
   "source": [
    "cat = X_train.select_dtypes(exclude=\"number\").columns.to_list()    \n",
    "enc = OrdinalEncoder(handle_unknown='use_encoded_value', unknown_value=-1)\n",
    "\n",
    "X_train[cat] = enc.fit_transform(X_train[cat])\n",
    "X_test[cat] = enc.transform(X_test[cat])\n",
    "\n",
    "X_train.shape, X_test.shape"
   ]
  },
  {
   "cell_type": "markdown",
   "id": "92f1e7d6",
   "metadata": {},
   "source": [
    "### RandomForestClassifier"
   ]
  },
  {
   "cell_type": "code",
   "execution_count": 33,
   "id": "32f7a4b6",
   "metadata": {},
   "outputs": [],
   "source": [
    "rfc_model = RandomForestClassifier(\n",
    "    class_weight = 'balanced',\n",
    "    random_state=random_state\n",
    ")"
   ]
  },
  {
   "cell_type": "code",
   "execution_count": 34,
   "id": "1ba8f1bd",
   "metadata": {},
   "outputs": [
    {
     "name": "stdout",
     "output_type": "stream",
     "text": [
      "CPU times: user 9.72 s, sys: 65 ms, total: 9.79 s\n",
      "Wall time: 9.82 s\n"
     ]
    },
    {
     "data": {
      "text/plain": [
       "RandomForestClassifier(class_weight='balanced', random_state=42)"
      ]
     },
     "execution_count": 34,
     "metadata": {},
     "output_type": "execute_result"
    }
   ],
   "source": [
    "%%time\n",
    "rfc_model.fit(X_train, y_train)"
   ]
  },
  {
   "cell_type": "code",
   "execution_count": 35,
   "id": "a255470a",
   "metadata": {},
   "outputs": [
    {
     "name": "stdout",
     "output_type": "stream",
     "text": [
      "              precision    recall  f1-score   support\n",
      "\n",
      "        Good       1.00      1.00      1.00     14304\n",
      "        Poor       1.00      1.00      1.00     23147\n",
      "    Standard       1.00      1.00      1.00     14272\n",
      "\n",
      "    accuracy                           1.00     51723\n",
      "   macro avg       1.00      1.00      1.00     51723\n",
      "weighted avg       1.00      1.00      1.00     51723\n",
      "\n",
      "----------------------------------------------------------\n",
      "              precision    recall  f1-score   support\n",
      "\n",
      "        Good       0.86      0.90      0.88      3524\n",
      "        Poor       0.89      0.94      0.91      5851\n",
      "    Standard       0.79      0.67      0.72      3556\n",
      "\n",
      "    accuracy                           0.85     12931\n",
      "   macro avg       0.84      0.84      0.84     12931\n",
      "weighted avg       0.85      0.85      0.85     12931\n",
      "\n"
     ]
    }
   ],
   "source": [
    "y_pred_train = rfc_model.predict(X_train)\n",
    "y_pred_test  = rfc_model.predict(X_test)\n",
    "\n",
    "print(classification_report(y_train, y_pred_train))\n",
    "print('----------------------------------------------------------')\n",
    "print(classification_report(y_test, y_pred_test))"
   ]
  },
  {
   "cell_type": "markdown",
   "id": "f1f20912",
   "metadata": {},
   "source": [
    "#### Usando GridSearchCV"
   ]
  },
  {
   "cell_type": "code",
   "execution_count": 36,
   "id": "d6189fe4",
   "metadata": {},
   "outputs": [],
   "source": [
    "model = RandomForestClassifier(\n",
    "    class_weight = 'balanced',\n",
    "    random_state=random_state\n",
    ")\n",
    "param_grid = {\n",
    "    'max_depth': [3], \n",
    "    'n_estimators': [10],\n",
    "    'max_features': [None],\n",
    "}\n",
    "\n",
    "grid_model_rfc = GridSearchCV(\n",
    "    estimator=model,\n",
    "    param_grid = param_grid, \n",
    "    error_score=\"raise\",\n",
    "    refit=True,\n",
    "    n_jobs=-1,\n",
    "    cv=5,\n",
    ")"
   ]
  },
  {
   "cell_type": "code",
   "execution_count": 37,
   "id": "877c487f",
   "metadata": {},
   "outputs": [
    {
     "name": "stdout",
     "output_type": "stream",
     "text": [
      "CPU times: user 1.18 s, sys: 10.6 ms, total: 1.19 s\n",
      "Wall time: 3.14 s\n"
     ]
    },
    {
     "data": {
      "text/plain": [
       "GridSearchCV(cv=5, error_score='raise',\n",
       "             estimator=RandomForestClassifier(class_weight='balanced',\n",
       "                                              random_state=42),\n",
       "             n_jobs=-1,\n",
       "             param_grid={'max_depth': [3], 'max_features': [None],\n",
       "                         'n_estimators': [10]})"
      ]
     },
     "execution_count": 37,
     "metadata": {},
     "output_type": "execute_result"
    }
   ],
   "source": [
    "%%time\n",
    "grid_model_rfc.fit(X_train, y_train)"
   ]
  },
  {
   "cell_type": "code",
   "execution_count": 38,
   "id": "37604d6b",
   "metadata": {},
   "outputs": [
    {
     "data": {
      "text/plain": [
       "{'max_depth': 3, 'max_features': None, 'n_estimators': 10}"
      ]
     },
     "execution_count": 38,
     "metadata": {},
     "output_type": "execute_result"
    }
   ],
   "source": [
    "grid_model_rfc.best_params_"
   ]
  },
  {
   "cell_type": "code",
   "execution_count": 39,
   "id": "bf75496b",
   "metadata": {},
   "outputs": [
    {
     "data": {
      "text/plain": [
       "0.7283606301843925"
      ]
     },
     "execution_count": 39,
     "metadata": {},
     "output_type": "execute_result"
    }
   ],
   "source": [
    "grid_model_rfc.best_score_"
   ]
  },
  {
   "cell_type": "code",
   "execution_count": 40,
   "id": "52c94ae2",
   "metadata": {},
   "outputs": [
    {
     "name": "stdout",
     "output_type": "stream",
     "text": [
      "              precision    recall  f1-score   support\n",
      "\n",
      "        Good       0.69      0.75      0.72     14304\n",
      "        Poor       0.79      0.80      0.80     23147\n",
      "    Standard       0.66      0.58      0.62     14272\n",
      "\n",
      "    accuracy                           0.73     51723\n",
      "   macro avg       0.71      0.71      0.71     51723\n",
      "weighted avg       0.73      0.73      0.73     51723\n",
      "\n",
      "----------------------------------------------------------\n",
      "              precision    recall  f1-score   support\n",
      "\n",
      "        Good       0.68      0.76      0.72      3524\n",
      "        Poor       0.80      0.81      0.80      5851\n",
      "    Standard       0.66      0.58      0.62      3556\n",
      "\n",
      "    accuracy                           0.73     12931\n",
      "   macro avg       0.71      0.71      0.71     12931\n",
      "weighted avg       0.73      0.73      0.73     12931\n",
      "\n"
     ]
    }
   ],
   "source": [
    "y_pred_train = grid_model_rfc.predict(X_train)\n",
    "y_pred_test  = grid_model_rfc.predict(X_test)\n",
    "\n",
    "print(classification_report(y_train, y_pred_train))\n",
    "print('----------------------------------------------------------')\n",
    "print(classification_report(y_test, y_pred_test))"
   ]
  },
  {
   "cell_type": "markdown",
   "id": "757cc895",
   "metadata": {},
   "source": [
    "### Árboles de decisión"
   ]
  },
  {
   "cell_type": "code",
   "execution_count": 41,
   "id": "78ed0e76",
   "metadata": {},
   "outputs": [],
   "source": [
    "dt = DecisionTreeClassifier(\n",
    "    criterion='gini',max_depth=10,splitter='best'\n",
    ")"
   ]
  },
  {
   "cell_type": "code",
   "execution_count": 42,
   "id": "05c2ec5d",
   "metadata": {},
   "outputs": [
    {
     "name": "stdout",
     "output_type": "stream",
     "text": [
      "CPU times: user 490 ms, sys: 1.8 ms, total: 492 ms\n",
      "Wall time: 490 ms\n"
     ]
    },
    {
     "data": {
      "text/plain": [
       "DecisionTreeClassifier(max_depth=10)"
      ]
     },
     "execution_count": 42,
     "metadata": {},
     "output_type": "execute_result"
    }
   ],
   "source": [
    "%%time\n",
    "dt.fit(X_train , y_train)"
   ]
  },
  {
   "cell_type": "code",
   "execution_count": 43,
   "id": "ef6fe903",
   "metadata": {},
   "outputs": [
    {
     "data": {
      "text/plain": [
       "0.7752257216325426"
      ]
     },
     "execution_count": 43,
     "metadata": {},
     "output_type": "execute_result"
    }
   ],
   "source": [
    "dt_score_train=dt.score(X_train , y_train)\n",
    "dt_score_train"
   ]
  },
  {
   "cell_type": "code",
   "execution_count": 44,
   "id": "ec09133f",
   "metadata": {},
   "outputs": [
    {
     "data": {
      "text/plain": [
       "0.7576366870311654"
      ]
     },
     "execution_count": 44,
     "metadata": {},
     "output_type": "execute_result"
    }
   ],
   "source": [
    "dt_score_test=dt.score(X_test , y_test)\n",
    "dt_score_test"
   ]
  },
  {
   "cell_type": "code",
   "execution_count": 45,
   "id": "4810aaa9",
   "metadata": {},
   "outputs": [
    {
     "name": "stdout",
     "output_type": "stream",
     "text": [
      "              precision    recall  f1-score   support\n",
      "\n",
      "        Good       0.72      0.85      0.78     14304\n",
      "        Poor       0.84      0.83      0.84     23147\n",
      "    Standard       0.73      0.60      0.66     14272\n",
      "\n",
      "    accuracy                           0.78     51723\n",
      "   macro avg       0.76      0.76      0.76     51723\n",
      "weighted avg       0.78      0.78      0.77     51723\n",
      "\n",
      "----------------------------------------------------------\n",
      "              precision    recall  f1-score   support\n",
      "\n",
      "        Good       0.70      0.83      0.76      3524\n",
      "        Poor       0.83      0.82      0.83      5851\n",
      "    Standard       0.69      0.58      0.63      3556\n",
      "\n",
      "    accuracy                           0.76     12931\n",
      "   macro avg       0.74      0.74      0.74     12931\n",
      "weighted avg       0.76      0.76      0.76     12931\n",
      "\n"
     ]
    }
   ],
   "source": [
    "y_pred_train = dt.predict(X_train)\n",
    "y_pred_test  = dt.predict(X_test)\n",
    "\n",
    "print(classification_report(y_train, y_pred_train))\n",
    "print('----------------------------------------------------------')\n",
    "print(classification_report(y_test, y_pred_test))"
   ]
  },
  {
   "cell_type": "markdown",
   "id": "a3bfc720",
   "metadata": {},
   "source": [
    "#### Usando GridSearchCV"
   ]
  },
  {
   "cell_type": "code",
   "execution_count": 46,
   "id": "e7c522a1",
   "metadata": {},
   "outputs": [],
   "source": [
    "model = DecisionTreeClassifier(\n",
    "    criterion='gini',max_depth=10,splitter='best'\n",
    ")\n",
    "param_grid = {'criterion':['gini', 'entropy'],\n",
    "              'splitter':['best','random'],\n",
    "              'max_depth':[10,20,30,40,50],\n",
    "              }\n",
    "grid_model_dt = GridSearchCV(\n",
    "    estimator=model,\n",
    "    param_grid = param_grid, \n",
    "    error_score=\"raise\",\n",
    "    refit=True,\n",
    "    n_jobs=-1,\n",
    "    cv=5,\n",
    ")"
   ]
  },
  {
   "cell_type": "code",
   "execution_count": 47,
   "id": "31270a49",
   "metadata": {
    "scrolled": false
   },
   "outputs": [
    {
     "name": "stdout",
     "output_type": "stream",
     "text": [
      "CPU times: user 905 ms, sys: 171 ms, total: 1.08 s\n",
      "Wall time: 11.9 s\n"
     ]
    },
    {
     "data": {
      "text/plain": [
       "GridSearchCV(cv=5, error_score='raise',\n",
       "             estimator=DecisionTreeClassifier(max_depth=10), n_jobs=-1,\n",
       "             param_grid={'criterion': ['gini', 'entropy'],\n",
       "                         'max_depth': [10, 20, 30, 40, 50],\n",
       "                         'splitter': ['best', 'random']})"
      ]
     },
     "execution_count": 47,
     "metadata": {},
     "output_type": "execute_result"
    }
   ],
   "source": [
    "%%time\n",
    "grid_model_dt.fit(X_train, y_train)"
   ]
  },
  {
   "cell_type": "code",
   "execution_count": 48,
   "id": "eff0ceb8",
   "metadata": {},
   "outputs": [
    {
     "data": {
      "text/plain": [
       "{'criterion': 'gini', 'max_depth': 40, 'splitter': 'random'}"
      ]
     },
     "execution_count": 48,
     "metadata": {},
     "output_type": "execute_result"
    }
   ],
   "source": [
    "grid_model_dt.best_params_"
   ]
  },
  {
   "cell_type": "code",
   "execution_count": 49,
   "id": "0be191e9",
   "metadata": {},
   "outputs": [
    {
     "data": {
      "text/plain": [
       "0.765268843611565"
      ]
     },
     "execution_count": 49,
     "metadata": {},
     "output_type": "execute_result"
    }
   ],
   "source": [
    "grid_model_dt.best_score_"
   ]
  },
  {
   "cell_type": "code",
   "execution_count": 50,
   "id": "49959322",
   "metadata": {},
   "outputs": [
    {
     "name": "stdout",
     "output_type": "stream",
     "text": [
      "              precision    recall  f1-score   support\n",
      "\n",
      "        Good       1.00      1.00      1.00     14304\n",
      "        Poor       1.00      1.00      1.00     23147\n",
      "    Standard       1.00      1.00      1.00     14272\n",
      "\n",
      "    accuracy                           1.00     51723\n",
      "   macro avg       1.00      1.00      1.00     51723\n",
      "weighted avg       1.00      1.00      1.00     51723\n",
      "\n",
      "----------------------------------------------------------\n",
      "              precision    recall  f1-score   support\n",
      "\n",
      "        Good       0.82      0.82      0.82      3524\n",
      "        Poor       0.85      0.85      0.85      5851\n",
      "    Standard       0.63      0.63      0.63      3556\n",
      "\n",
      "    accuracy                           0.78     12931\n",
      "   macro avg       0.77      0.77      0.77     12931\n",
      "weighted avg       0.78      0.78      0.78     12931\n",
      "\n"
     ]
    }
   ],
   "source": [
    "y_pred_train = grid_model_dt.predict(X_train)\n",
    "y_pred_test  = grid_model_dt.predict(X_test)\n",
    "print(classification_report(y_train, y_pred_train))\n",
    "print('----------------------------------------------------------')\n",
    "print(classification_report(y_test, y_pred_test))"
   ]
  },
  {
   "cell_type": "markdown",
   "id": "1a35f4dc",
   "metadata": {},
   "source": [
    "### Redes Neuronales: MLPClassifier"
   ]
  },
  {
   "cell_type": "code",
   "execution_count": 51,
   "id": "9a958b45",
   "metadata": {},
   "outputs": [],
   "source": [
    "nn = MLPClassifier(random_state=random_state)"
   ]
  },
  {
   "cell_type": "code",
   "execution_count": 52,
   "id": "686de365",
   "metadata": {},
   "outputs": [
    {
     "name": "stdout",
     "output_type": "stream",
     "text": [
      "CPU times: user 32.1 s, sys: 6.9 s, total: 39.1 s\n",
      "Wall time: 5.6 s\n"
     ]
    },
    {
     "data": {
      "text/plain": [
       "MLPClassifier(random_state=42)"
      ]
     },
     "execution_count": 52,
     "metadata": {},
     "output_type": "execute_result"
    }
   ],
   "source": [
    "%%time\n",
    "nn.fit(X_train , y_train)"
   ]
  },
  {
   "cell_type": "code",
   "execution_count": 53,
   "id": "a1859773",
   "metadata": {},
   "outputs": [
    {
     "data": {
      "text/plain": [
       "0.5285462946851497"
      ]
     },
     "execution_count": 53,
     "metadata": {},
     "output_type": "execute_result"
    }
   ],
   "source": [
    "nn_score_train=nn.score(X_train , y_train)\n",
    "nn_score_train"
   ]
  },
  {
   "cell_type": "code",
   "execution_count": 54,
   "id": "3e04eeaf",
   "metadata": {},
   "outputs": [
    {
     "data": {
      "text/plain": [
       "0.5315907509086691"
      ]
     },
     "execution_count": 54,
     "metadata": {},
     "output_type": "execute_result"
    }
   ],
   "source": [
    "nn_score_test=nn.score(X_test , y_test)\n",
    "nn_score_test"
   ]
  },
  {
   "cell_type": "code",
   "execution_count": 55,
   "id": "dfbc49bc",
   "metadata": {},
   "outputs": [
    {
     "name": "stdout",
     "output_type": "stream",
     "text": [
      "              precision    recall  f1-score   support\n",
      "\n",
      "        Good       0.73      0.07      0.12     14304\n",
      "        Poor       0.61      0.86      0.72     23147\n",
      "    Standard       0.36      0.45      0.40     14272\n",
      "\n",
      "    accuracy                           0.53     51723\n",
      "   macro avg       0.57      0.46      0.41     51723\n",
      "weighted avg       0.58      0.53      0.46     51723\n",
      "\n",
      "----------------------------------------------------------\n",
      "              precision    recall  f1-score   support\n",
      "\n",
      "        Good       0.73      0.07      0.13      3524\n",
      "        Poor       0.61      0.86      0.72      5851\n",
      "    Standard       0.36      0.44      0.40      3556\n",
      "\n",
      "    accuracy                           0.53     12931\n",
      "   macro avg       0.57      0.46      0.42     12931\n",
      "weighted avg       0.58      0.53      0.47     12931\n",
      "\n"
     ]
    }
   ],
   "source": [
    "y_pred_train = nn.predict(X_train)\n",
    "y_pred_test  = nn.predict(X_test)\n",
    "\n",
    "print(classification_report(y_train, y_pred_train))\n",
    "print('----------------------------------------------------------')\n",
    "print(classification_report(y_test, y_pred_test))"
   ]
  },
  {
   "cell_type": "markdown",
   "id": "41f69b75",
   "metadata": {},
   "source": [
    "#### Usando GridSearchCV"
   ]
  },
  {
   "cell_type": "code",
   "execution_count": 56,
   "id": "220b34c5",
   "metadata": {},
   "outputs": [],
   "source": [
    "model = MLPClassifier(random_state=random_state)\n",
    "param_grid = {\n",
    "    'hidden_layer_sizes': [(8,),(16,),(24,),(32,)],\n",
    "    'alpha':[0.001, 0.01, 0.1]\n",
    "}\n",
    "\n",
    "grid_model_mlp = GridSearchCV(\n",
    "    estimator=model,\n",
    "    param_grid = param_grid, \n",
    "    error_score=\"raise\",\n",
    "    refit=True,\n",
    "    n_jobs=-1,\n",
    "    cv=5,\n",
    ")"
   ]
  },
  {
   "cell_type": "code",
   "execution_count": 57,
   "id": "fc0f0b98",
   "metadata": {},
   "outputs": [
    {
     "name": "stdout",
     "output_type": "stream",
     "text": [
      "CPU times: user 16.7 s, sys: 4.6 s, total: 21.2 s\n",
      "Wall time: 39.8 s\n"
     ]
    },
    {
     "data": {
      "text/plain": [
       "GridSearchCV(cv=5, error_score='raise',\n",
       "             estimator=MLPClassifier(random_state=42), n_jobs=-1,\n",
       "             param_grid={'alpha': [0.001, 0.01, 0.1],\n",
       "                         'hidden_layer_sizes': [(8,), (16,), (24,), (32,)]})"
      ]
     },
     "execution_count": 57,
     "metadata": {},
     "output_type": "execute_result"
    }
   ],
   "source": [
    "%%time\n",
    "grid_model_mlp.fit(X_train, y_train)"
   ]
  },
  {
   "cell_type": "code",
   "execution_count": 58,
   "id": "7bfed70f",
   "metadata": {},
   "outputs": [
    {
     "data": {
      "text/plain": [
       "{'alpha': 0.001, 'hidden_layer_sizes': (16,)}"
      ]
     },
     "execution_count": 58,
     "metadata": {},
     "output_type": "execute_result"
    }
   ],
   "source": [
    "grid_model_mlp.best_params_"
   ]
  },
  {
   "cell_type": "code",
   "execution_count": 59,
   "id": "e10e620c",
   "metadata": {},
   "outputs": [
    {
     "data": {
      "text/plain": [
       "0.6058247555245051"
      ]
     },
     "execution_count": 59,
     "metadata": {},
     "output_type": "execute_result"
    }
   ],
   "source": [
    "grid_model_mlp.best_score_"
   ]
  },
  {
   "cell_type": "code",
   "execution_count": 60,
   "id": "d446e9ff",
   "metadata": {},
   "outputs": [
    {
     "name": "stdout",
     "output_type": "stream",
     "text": [
      "              precision    recall  f1-score   support\n",
      "\n",
      "        Good       0.71      0.18      0.29     14304\n",
      "        Poor       0.76      0.67      0.71     23147\n",
      "    Standard       0.37      0.72      0.49     14272\n",
      "\n",
      "    accuracy                           0.55     51723\n",
      "   macro avg       0.61      0.53      0.50     51723\n",
      "weighted avg       0.64      0.55      0.54     51723\n",
      "\n",
      "----------------------------------------------------------\n",
      "              precision    recall  f1-score   support\n",
      "\n",
      "        Good       0.72      0.20      0.31      3524\n",
      "        Poor       0.77      0.68      0.72      5851\n",
      "    Standard       0.38      0.73      0.50      3556\n",
      "\n",
      "    accuracy                           0.56     12931\n",
      "   macro avg       0.62      0.53      0.51     12931\n",
      "weighted avg       0.65      0.56      0.55     12931\n",
      "\n"
     ]
    }
   ],
   "source": [
    "y_pred_train = grid_model_mlp.predict(X_train)\n",
    "y_pred_test  = grid_model_mlp.predict(X_test)\n",
    "print(classification_report(y_train, y_pred_train))\n",
    "print('----------------------------------------------------------')\n",
    "print(classification_report(y_test, y_pred_test))"
   ]
  },
  {
   "cell_type": "markdown",
   "id": "7a84679a",
   "metadata": {},
   "source": [
    "## Resultados y comparación de los modelos"
   ]
  },
  {
   "cell_type": "code",
   "execution_count": 61,
   "id": "462ca073",
   "metadata": {},
   "outputs": [
    {
     "data": {
      "image/png": "[encoded data removed]",
      "text/plain": [
       "<Figure size 842.4x595.44 with 1 Axes>"
      ]
     },
     "metadata": {},
     "output_type": "display_data"
    }
   ],
   "source": [
    "model = grid_model_log\n",
    "\n",
    "visualizer = ROCAUC(model, classes=['Good', 'Poor', 'Standart'])\n",
    "visualizer.fit(X_train_scaled, y_train)        # Fit the training data to the visualizer\n",
    "visualizer.score(X_train_scaled, y_train)        # Evaluate the model on the test data\n",
    "visualizer.show(); "
   ]
  },
  {
   "cell_type": "code",
   "execution_count": 62,
   "id": "d543c5bf",
   "metadata": {},
   "outputs": [
    {
     "data": {
      "image/png": "[encoded data removed]",
      "text/plain": [
       "<Figure size 842.4x595.44 with 1 Axes>"
      ]
     },
     "metadata": {},
     "output_type": "display_data"
    }
   ],
   "source": [
    "model = grid_model_rfc\n",
    "\n",
    "visualizer = ROCAUC(model, classes=['Good', 'Poor', 'Standart'])\n",
    "visualizer.fit(X_train, y_train)        # Fit the training data to the visualizer\n",
    "visualizer.score(X_train, y_train)        # Evaluate the model on the test data\n",
    "visualizer.show(); "
   ]
  },
  {
   "cell_type": "code",
   "execution_count": 63,
   "id": "35f87ba9",
   "metadata": {},
   "outputs": [
    {
     "data": {
      "image/png": "[encoded data removed]",
      "text/plain": [
       "<Figure size 842.4x595.44 with 2 Axes>"
      ]
     },
     "metadata": {},
     "output_type": "display_data"
    }
   ],
   "source": [
    "plot_confusion_matrix(grid_model_rfc, X_test, y_test);"
   ]
  },
  {
   "cell_type": "markdown",
   "id": "e4ef0b15",
   "metadata": {},
   "source": [
    "### Conclusiones"
   ]
  },
  {
   "cell_type": "markdown",
   "id": "f9b184c6",
   "metadata": {},
   "source": [
    "La evidencia presentada nos lleva a concluir que el análisis de datos es esencial para evaluar el estado financiero de múltiples usuarios, y toma un papel crucial al momento de considerar a un posible beneficiario para la obtención de un crédito bancario, permitiendo a la institución bancaria considerar los riesgos y beneficios que se obtendrán con la aprobación del préstamo.\n",
    "\n",
    "Para que el modelo haga buenas predicciones, el conjunto de datos debe estar limpio. A menudo, puede encontrar datos nulos en algunas variables. Entonces se llenan esos espacios nulos con el valor promedio de cada variable. Ninguna de las variables depende de la otra porque la correlación que existe entre ellas es muy baja y es importante dejar a cada una sola ya que informa al modelo.\n",
    "\n",
    "Finalmente, los modelos de aprendizaje de máquina son muy útiles para predecir situaciones del mundo real en función de ciertos datos, y aunque algunos modelos funcionan mejor que otros, todos son útiles y su aplicación depende de la complejidad de las predicciones."
   ]
  }
 ],
 "metadata": {
  "kernelspec": {
   "display_name": "Python 3 (ipykernel)",
   "language": "python",
   "name": "python3"
  },
  "language_info": {
   "codemirror_mode": {
    "name": "ipython",
    "version": 3
   },
   "file_extension": ".py",
   "mimetype": "text/x-python",
   "name": "python",
   "nbconvert_exporter": "python",
   "pygments_lexer": "ipython3",
   "version": "3.9.12"
  }
 },
 "nbformat": 4,
 "nbformat_minor": 5
}
